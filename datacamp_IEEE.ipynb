{
  "nbformat": 4,
  "nbformat_minor": 0,
  "metadata": {
    "colab": {
      "name": "datacamp_IEEE",
      "provenance": [],
      "collapsed_sections": [],
      "machine_shape": "hm"
    },
    "kernelspec": {
      "name": "python3",
      "display_name": "Python 3"
    },
    "accelerator": "GPU"
  },
  "cells": [
    {
      "cell_type": "code",
      "metadata": {
        "id": "5kL29ryN7WP8",
        "colab_type": "code",
        "colab": {}
      },
      "source": [
        "import numpy as np\n",
        "import pandas as pd\n",
        "import matplotlib.pyplot as plt\n",
        "import seaborn as sns\n",
        "from sklearn.neighbors import KNeighborsClassifier\n",
        "from sklearn.naive_bayes import MultinomialNB, GaussianNB\n",
        "from sklearn.linear_model import SGDClassifier\n",
        "from sklearn.metrics import accuracy_score\n",
        "from sklearn.discriminant_analysis import LinearDiscriminantAnalysis, QuadraticDiscriminantAnalysis\n",
        "from sklearn.metrics import confusion_matrix, classification_report, precision_score \n",
        "from sklearn.linear_model import LogisticRegression\n",
        "from sklearn.ensemble import RandomForestClassifier \n",
        "from sklearn import metrics\n",
        "\n",
        "\n",
        "sns.set(style=\"darkgrid\")\n"
      ],
      "execution_count": 0,
      "outputs": []
    },
    {
      "cell_type": "code",
      "metadata": {
        "id": "X6It7z91_tMA",
        "colab_type": "code",
        "colab": {
          "base_uri": "https://localhost:8080/",
          "height": 34
        },
        "outputId": "1b837805-c11f-4e3b-9fc2-7c050a633977"
      },
      "source": [
        "from google.colab import drive\n",
        "drive.mount('/content/drive')"
      ],
      "execution_count": 2,
      "outputs": [
        {
          "output_type": "stream",
          "text": [
            "Drive already mounted at /content/drive; to attempt to forcibly remount, call drive.mount(\"/content/drive\", force_remount=True).\n"
          ],
          "name": "stdout"
        }
      ]
    },
    {
      "cell_type": "code",
      "metadata": {
        "id": "vZjAqLAroqUF",
        "colab_type": "code",
        "colab": {}
      },
      "source": [
        "my_path = \"drive/My Drive/datacamp/\""
      ],
      "execution_count": 0,
      "outputs": []
    },
    {
      "cell_type": "code",
      "metadata": {
        "id": "DBr3f34IpEAe",
        "colab_type": "code",
        "colab": {
          "base_uri": "https://localhost:8080/",
          "height": 275
        },
        "outputId": "4f0a828b-2695-4738-9730-60a6e1820c7c"
      },
      "source": [
        "df = pd.read_csv( my_path + 'sample_submission.csv',header=None)\n",
        "\n",
        "\n",
        "print(\"shape\", df.shape)\n",
        "df.head(5)"
      ],
      "execution_count": 4,
      "outputs": [
        {
          "output_type": "stream",
          "text": [
            "shape (506692, 2)\n"
          ],
          "name": "stdout"
        },
        {
          "output_type": "stream",
          "text": [
            "/usr/local/lib/python3.6/dist-packages/IPython/core/interactiveshell.py:2718: DtypeWarning: Columns (0,1) have mixed types. Specify dtype option on import or set low_memory=False.\n",
            "  interactivity=interactivity, compiler=compiler, result=result)\n"
          ],
          "name": "stderr"
        },
        {
          "output_type": "execute_result",
          "data": {
            "text/html": [
              "<div>\n",
              "<style scoped>\n",
              "    .dataframe tbody tr th:only-of-type {\n",
              "        vertical-align: middle;\n",
              "    }\n",
              "\n",
              "    .dataframe tbody tr th {\n",
              "        vertical-align: top;\n",
              "    }\n",
              "\n",
              "    .dataframe thead th {\n",
              "        text-align: right;\n",
              "    }\n",
              "</style>\n",
              "<table border=\"1\" class=\"dataframe\">\n",
              "  <thead>\n",
              "    <tr style=\"text-align: right;\">\n",
              "      <th></th>\n",
              "      <th>0</th>\n",
              "      <th>1</th>\n",
              "    </tr>\n",
              "  </thead>\n",
              "  <tbody>\n",
              "    <tr>\n",
              "      <th>0</th>\n",
              "      <td>TransactionID</td>\n",
              "      <td>isFraud</td>\n",
              "    </tr>\n",
              "    <tr>\n",
              "      <th>1</th>\n",
              "      <td>3663549</td>\n",
              "      <td>0.5</td>\n",
              "    </tr>\n",
              "    <tr>\n",
              "      <th>2</th>\n",
              "      <td>3663550</td>\n",
              "      <td>0.5</td>\n",
              "    </tr>\n",
              "    <tr>\n",
              "      <th>3</th>\n",
              "      <td>3663551</td>\n",
              "      <td>0.5</td>\n",
              "    </tr>\n",
              "    <tr>\n",
              "      <th>4</th>\n",
              "      <td>3663552</td>\n",
              "      <td>0.5</td>\n",
              "    </tr>\n",
              "  </tbody>\n",
              "</table>\n",
              "</div>"
            ],
            "text/plain": [
              "               0        1\n",
              "0  TransactionID  isFraud\n",
              "1        3663549      0.5\n",
              "2        3663550      0.5\n",
              "3        3663551      0.5\n",
              "4        3663552      0.5"
            ]
          },
          "metadata": {
            "tags": []
          },
          "execution_count": 4
        }
      ]
    },
    {
      "cell_type": "code",
      "metadata": {
        "id": "MYhFO6o1Bklh",
        "colab_type": "code",
        "colab": {}
      },
      "source": [
        "del df"
      ],
      "execution_count": 0,
      "outputs": []
    },
    {
      "cell_type": "markdown",
      "metadata": {
        "id": "Tpt2DcMeLDGD",
        "colab_type": "text"
      },
      "source": [
        "# Import des données"
      ]
    },
    {
      "cell_type": "code",
      "metadata": {
        "id": "MrSVv0r37arn",
        "colab_type": "code",
        "colab": {}
      },
      "source": [
        "test_id = pd.read_csv(my_path + \"test_identity.csv\")\n",
        "test_tran = pd.read_csv(my_path + \"test_transaction.csv\")\n",
        "train_id = pd.read_csv(my_path + \"train_identity.csv\")\n",
        "train_tran = pd.read_csv(my_path + \"train_transaction.csv\")\n"
      ],
      "execution_count": 0,
      "outputs": []
    },
    {
      "cell_type": "code",
      "metadata": {
        "id": "RfQx3nESLPdG",
        "colab_type": "code",
        "colab": {}
      },
      "source": [
        "train_tran.head(5)"
      ],
      "execution_count": 0,
      "outputs": []
    },
    {
      "cell_type": "code",
      "metadata": {
        "id": "b2V9CI97LT1w",
        "colab_type": "code",
        "colab": {}
      },
      "source": [
        "train_id.head(5)"
      ],
      "execution_count": 0,
      "outputs": []
    },
    {
      "cell_type": "markdown",
      "metadata": {
        "id": "p6t6RoJXLX5y",
        "colab_type": "text"
      },
      "source": [
        "On rassemble les données train et test via la variable TransactionID."
      ]
    },
    {
      "cell_type": "code",
      "metadata": {
        "id": "Fna2qPlRBdnX",
        "colab_type": "code",
        "colab": {}
      },
      "source": [
        "train = pd.merge(train_tran, train_id, on='TransactionID', how='left')\n",
        "test = pd.merge(test_tran, test_id, on='TransactionID', how='left')"
      ],
      "execution_count": 0,
      "outputs": []
    },
    {
      "cell_type": "code",
      "metadata": {
        "id": "K7I4D4roB9hv",
        "colab_type": "code",
        "colab": {
          "base_uri": "https://localhost:8080/",
          "height": 51
        },
        "outputId": "f1af8ccf-42c8-4b46-d44f-75801b17371e"
      },
      "source": [
        "print(f'Train dataset: {train.shape[0]} lignes & {train.shape[1]} colonnes')\n",
        "print(f'Test dataset: {test.shape[0]} lignes & {test.shape[1]} colonnes')"
      ],
      "execution_count": 10,
      "outputs": [
        {
          "output_type": "stream",
          "text": [
            "Train dataset: 590540 rows & 434 columns\n",
            "Test dataset: 506691 rows & 433 columns\n"
          ],
          "name": "stdout"
        }
      ]
    },
    {
      "cell_type": "code",
      "metadata": {
        "id": "Ze-btWIyCJBw",
        "colab_type": "code",
        "colab": {}
      },
      "source": [
        "del train_id, train_tran, test_id, test_tran"
      ],
      "execution_count": 0,
      "outputs": []
    },
    {
      "cell_type": "code",
      "metadata": {
        "id": "JHh8LqhiZ-aH",
        "colab_type": "code",
        "colab": {
          "base_uri": "https://localhost:8080/",
          "height": 170
        },
        "outputId": "f4e2751c-8355-4f6f-bd23-f0df67dfdef7"
      },
      "source": [
        "test.columns[370:433]"
      ],
      "execution_count": 12,
      "outputs": [
        {
          "output_type": "execute_result",
          "data": {
            "text/plain": [
              "Index(['V317', 'V318', 'V319', 'V320', 'V321', 'V322', 'V323', 'V324', 'V325',\n",
              "       'V326', 'V327', 'V328', 'V329', 'V330', 'V331', 'V332', 'V333', 'V334',\n",
              "       'V335', 'V336', 'V337', 'V338', 'V339', 'id-01', 'id-02', 'id-03',\n",
              "       'id-04', 'id-05', 'id-06', 'id-07', 'id-08', 'id-09', 'id-10', 'id-11',\n",
              "       'id-12', 'id-13', 'id-14', 'id-15', 'id-16', 'id-17', 'id-18', 'id-19',\n",
              "       'id-20', 'id-21', 'id-22', 'id-23', 'id-24', 'id-25', 'id-26', 'id-27',\n",
              "       'id-28', 'id-29', 'id-30', 'id-31', 'id-32', 'id-33', 'id-34', 'id-35',\n",
              "       'id-36', 'id-37', 'id-38', 'DeviceType', 'DeviceInfo'],\n",
              "      dtype='object')"
            ]
          },
          "metadata": {
            "tags": []
          },
          "execution_count": 12
        }
      ]
    },
    {
      "cell_type": "code",
      "metadata": {
        "id": "7HlDih9oZwVD",
        "colab_type": "code",
        "colab": {}
      },
      "source": [
        "old_names = ['id-01', 'id-02', 'id-03',\n",
        "       'id-04', 'id-05', 'id-06', 'id-07', 'id-08', 'id-09', 'id-10', 'id-11',\n",
        "       'id-12', 'id-13', 'id-14', 'id-15', 'id-16', 'id-17', 'id-18', 'id-19',\n",
        "       'id-20', 'id-21', 'id-22', 'id-23', 'id-24', 'id-25', 'id-26', 'id-27',\n",
        "       'id-28', 'id-29', 'id-30', 'id-31', 'id-32', 'id-33', 'id-34', 'id-35',\n",
        "       'id-36', 'id-37', 'id-38'] \n",
        "new_names = ['id_01', 'id_02', 'id_03',\n",
        "       'id_04', 'id_05', 'id_06', 'id_07', 'id_08', 'id_09', 'id_10', 'id_11',\n",
        "       'id_12', 'id_13', 'id_14', 'id_15', 'id_16', 'id_17', 'id_18', 'id_19',\n",
        "       'id_20', 'id_21', 'id_22', 'id_23', 'id_24', 'id_25', 'id_26', 'id_27',\n",
        "       'id_28', 'id_29', 'id_30', 'id_31', 'id_32', 'id_33', 'id_34', 'id_35',\n",
        "       'id_36', 'id_37', 'id_38']\n",
        "test.rename(columns=dict(zip(old_names, new_names)), inplace=True)"
      ],
      "execution_count": 0,
      "outputs": []
    },
    {
      "cell_type": "markdown",
      "metadata": {
        "id": "htAdB4tFMNKF",
        "colab_type": "text"
      },
      "source": [
        "# Valeurs manquantes"
      ]
    },
    {
      "cell_type": "code",
      "metadata": {
        "id": "ybiwKM6jD38f",
        "colab_type": "code",
        "colab": {
          "base_uri": "https://localhost:8080/",
          "height": 204
        },
        "outputId": "3853414d-61cf-49d0-cee9-e94bc8546a41"
      },
      "source": [
        "data_null = train.isnull().sum()/len(train) * 100\n",
        "data_null = data_null.drop(data_null[data_null == 0].index).sort_values(ascending=False)[:500]\n",
        "missing_data = pd.DataFrame({'Missing Ratio': data_null})\n",
        "missing_data.head()"
      ],
      "execution_count": 17,
      "outputs": [
        {
          "output_type": "execute_result",
          "data": {
            "text/html": [
              "<div>\n",
              "<style scoped>\n",
              "    .dataframe tbody tr th:only-of-type {\n",
              "        vertical-align: middle;\n",
              "    }\n",
              "\n",
              "    .dataframe tbody tr th {\n",
              "        vertical-align: top;\n",
              "    }\n",
              "\n",
              "    .dataframe thead th {\n",
              "        text-align: right;\n",
              "    }\n",
              "</style>\n",
              "<table border=\"1\" class=\"dataframe\">\n",
              "  <thead>\n",
              "    <tr style=\"text-align: right;\">\n",
              "      <th></th>\n",
              "      <th>Missing Ratio</th>\n",
              "    </tr>\n",
              "  </thead>\n",
              "  <tbody>\n",
              "    <tr>\n",
              "      <th>id_24</th>\n",
              "      <td>99.196159</td>\n",
              "    </tr>\n",
              "    <tr>\n",
              "      <th>id_25</th>\n",
              "      <td>99.130965</td>\n",
              "    </tr>\n",
              "    <tr>\n",
              "      <th>id_07</th>\n",
              "      <td>99.127070</td>\n",
              "    </tr>\n",
              "    <tr>\n",
              "      <th>id_08</th>\n",
              "      <td>99.127070</td>\n",
              "    </tr>\n",
              "    <tr>\n",
              "      <th>id_21</th>\n",
              "      <td>99.126393</td>\n",
              "    </tr>\n",
              "  </tbody>\n",
              "</table>\n",
              "</div>"
            ],
            "text/plain": [
              "       Missing Ratio\n",
              "id_24      99.196159\n",
              "id_25      99.130965\n",
              "id_07      99.127070\n",
              "id_08      99.127070\n",
              "id_21      99.126393"
            ]
          },
          "metadata": {
            "tags": []
          },
          "execution_count": 17
        }
      ]
    },
    {
      "cell_type": "code",
      "metadata": {
        "id": "Z5_XdwnUEGmH",
        "colab_type": "code",
        "colab": {
          "base_uri": "https://localhost:8080/",
          "height": 34
        },
        "outputId": "7bb56da3-443a-42d3-aecb-04cb59ddde93"
      },
      "source": [
        "missing_data.shape"
      ],
      "execution_count": 18,
      "outputs": [
        {
          "output_type": "execute_result",
          "data": {
            "text/plain": [
              "(414, 1)"
            ]
          },
          "metadata": {
            "tags": []
          },
          "execution_count": 18
        }
      ]
    },
    {
      "cell_type": "markdown",
      "metadata": {
        "id": "ZkwADZ7mMShC",
        "colab_type": "text"
      },
      "source": [
        "Il y a 414 variables qui contiennent des valeurs manquantes."
      ]
    },
    {
      "cell_type": "markdown",
      "metadata": {
        "id": "4ND5dymFMYFB",
        "colab_type": "text"
      },
      "source": [
        "On supprime les variables qui contiennent plus de 80% de valeurs manquantes."
      ]
    },
    {
      "cell_type": "code",
      "metadata": {
        "id": "00s6BZbhFz_h",
        "colab_type": "code",
        "colab": {}
      },
      "source": [
        "def cols_null(data):\n",
        "    null_cols = [col for col in data.columns if data[col].isnull().sum() / data.shape[0] > 0.8] \n",
        "    print(\"More than 80% null: \" + str(len(null_cols)))\n",
        "    return null_cols"
      ],
      "execution_count": 0,
      "outputs": []
    },
    {
      "cell_type": "code",
      "metadata": {
        "id": "n-EA_eB5LFNl",
        "colab_type": "code",
        "colab": {
          "base_uri": "https://localhost:8080/",
          "height": 34
        },
        "outputId": "cfa6e2d1-bcd7-45a9-e295-7ac6cd9ce890"
      },
      "source": [
        "null_cols = cols_null(train)\n",
        "train.drop(null_cols,1,inplace=True)"
      ],
      "execution_count": 8,
      "outputs": [
        {
          "output_type": "stream",
          "text": [
            "More than 80% null: 74\n"
          ],
          "name": "stdout"
        }
      ]
    },
    {
      "cell_type": "code",
      "metadata": {
        "id": "S_eKm85uXQj9",
        "colab_type": "code",
        "colab": {
          "base_uri": "https://localhost:8080/",
          "height": 34
        },
        "outputId": "713bdb91-b3a5-4ea2-d5eb-fb1928f6f072"
      },
      "source": [
        "print(null_cols)"
      ],
      "execution_count": 21,
      "outputs": [
        {
          "output_type": "stream",
          "text": [
            "['dist2', 'D7', 'id_07', 'id_08', 'id_18', 'id_21', 'id_22', 'id_23', 'id_24', 'id_25', 'id_26', 'id_27']\n"
          ],
          "name": "stdout"
        }
      ]
    },
    {
      "cell_type": "code",
      "metadata": {
        "id": "YAmAoavALYZP",
        "colab_type": "code",
        "colab": {}
      },
      "source": [
        "test.drop(null_cols,1,inplace=True)"
      ],
      "execution_count": 0,
      "outputs": []
    },
    {
      "cell_type": "code",
      "metadata": {
        "id": "2DcUDJLIJ31Q",
        "colab_type": "code",
        "colab": {
          "base_uri": "https://localhost:8080/",
          "height": 51
        },
        "outputId": "73863b7d-0633-469b-9067-d4526aa37862"
      },
      "source": [
        "print(f'Train dataset: {train.shape[0]} lignes & {train.shape[1]} colonnes')\n",
        "print(f'Test dataset: {test.shape[0]} lignes & {test.shape[1]} colonnes')"
      ],
      "execution_count": 12,
      "outputs": [
        {
          "output_type": "stream",
          "text": [
            "Train dataset: 590540 lignes & 360 colonnes\n",
            "Test dataset: 506691 lignes & 359 colonnes\n"
          ],
          "name": "stdout"
        }
      ]
    },
    {
      "cell_type": "markdown",
      "metadata": {
        "id": "g7WP7sIiiyI-",
        "colab_type": "text"
      },
      "source": [
        "# Variables\n"
      ]
    },
    {
      "cell_type": "markdown",
      "metadata": {
        "id": "LQr93803NBKh",
        "colab_type": "text"
      },
      "source": [
        "## Variables discrètes :\n",
        "\n",
        " - ProductCD\n",
        " - emaildomain\n",
        " - card1 - card6\n",
        " - addr1, addr2\n",
        " - P_emaildomain\n",
        " - R_emaildomain\n",
        " - M1 - M9\n",
        " - DeviceType\n",
        " - DeviceInfo\n",
        " - id_12 - id_38"
      ]
    },
    {
      "cell_type": "markdown",
      "metadata": {
        "id": "f4aKXaF2jMTm",
        "colab_type": "text"
      },
      "source": [
        "## Target : isFraud"
      ]
    },
    {
      "cell_type": "code",
      "metadata": {
        "id": "gBLtsuwQ84Ec",
        "colab_type": "code",
        "colab": {
          "base_uri": "https://localhost:8080/",
          "height": 229
        },
        "outputId": "0f809c3e-8ac5-4d8d-dd10-eab9e38e25a7"
      },
      "source": [
        "train.groupby('isFraud') \\\n",
        "    .count()['TransactionID'] \\\n",
        "    .plot(kind='barh',\n",
        "          title='Distribution of Target in Train',\n",
        "          figsize=(15, 3))\n",
        "plt.show()"
      ],
      "execution_count": 24,
      "outputs": [
        {
          "output_type": "display_data",
          "data": {
            "image/png": "[encoded data removed]",
            "text/plain": [
              "<Figure size 1080x216 with 1 Axes>"
            ]
          },
          "metadata": {
            "tags": []
          }
        }
      ]
    },
    {
      "cell_type": "markdown",
      "metadata": {
        "id": "7j0anTbrM3kf",
        "colab_type": "text"
      },
      "source": [
        "## Transaction Amt"
      ]
    },
    {
      "cell_type": "markdown",
      "metadata": {
        "id": "qaouhYjRN_IO",
        "colab_type": "text"
      },
      "source": [
        "Le montant de la transaction."
      ]
    },
    {
      "cell_type": "code",
      "metadata": {
        "id": "SdK8p-HZ45zH",
        "colab_type": "code",
        "colab": {
          "base_uri": "https://localhost:8080/",
          "height": 338
        },
        "outputId": "74fce988-174e-4431-ebac-96bc4e98ead5"
      },
      "source": [
        "train['TransactionAmt'] \\\n",
        "    .apply(np.log) \\\n",
        "    .plot(kind='hist',\n",
        "          bins=100,\n",
        "          figsize=(15, 5),\n",
        "          title='Distribution of Log Transaction Amt')\n",
        "plt.show()"
      ],
      "execution_count": 26,
      "outputs": [
        {
          "output_type": "display_data",
          "data": {
            "image/png": "[encoded data removed]",
            "text/plain": [
              "<Figure size 1080x360 with 1 Axes>"
            ]
          },
          "metadata": {
            "tags": []
          }
        }
      ]
    },
    {
      "cell_type": "code",
      "metadata": {
        "id": "R59xnFdm6Ncg",
        "colab_type": "code",
        "colab": {}
      },
      "source": [
        "plt.style.use('ggplot')\n",
        "color_pal = [x['color'] for x in plt.rcParams['axes.prop_cycle']]"
      ],
      "execution_count": 0,
      "outputs": []
    },
    {
      "cell_type": "code",
      "metadata": {
        "id": "FQSmvu1P5oqZ",
        "colab_type": "code",
        "colab": {
          "base_uri": "https://localhost:8080/",
          "height": 394
        },
        "outputId": "a2dc9a39-c239-461e-8c6a-5e9842950254"
      },
      "source": [
        "fig, ((ax1, ax2), (ax3, ax4)) = plt.subplots(2, 2, figsize=(15, 6))\n",
        "train.loc[train['isFraud'] == 1] \\\n",
        "    ['TransactionAmt'].apply(np.log) \\\n",
        "    .plot(kind='hist',\n",
        "          bins=100,\n",
        "          title='Log Transaction Amt - Fraud',\n",
        "          color=color_pal[1],\n",
        "          xlim=(-3, 10),\n",
        "         ax= ax1)\n",
        "train.loc[train['isFraud'] == 0] \\\n",
        "    ['TransactionAmt'].apply(np.log) \\\n",
        "    .plot(kind='hist',\n",
        "          bins=100,\n",
        "          title='Log Transaction Amt - Not Fraud',\n",
        "          color=color_pal[2],\n",
        "          xlim=(-3, 10),\n",
        "         ax=ax2)\n",
        "train.loc[train['isFraud'] == 1] \\\n",
        "    ['TransactionAmt'] \\\n",
        "    .plot(kind='hist',\n",
        "          bins=100,\n",
        "          title='Transaction Amt - Fraud',\n",
        "          color=color_pal[1],\n",
        "         ax= ax3)\n",
        "train.loc[train['isFraud'] == 0] \\\n",
        "    ['TransactionAmt'] \\\n",
        "    .plot(kind='hist',\n",
        "          bins=100,\n",
        "          title='Transaction Amt - Not Fraud',\n",
        "          color=color_pal[2],\n",
        "         ax=ax4)\n",
        "plt.show()\n"
      ],
      "execution_count": 28,
      "outputs": [
        {
          "output_type": "display_data",
          "data": {
            "image/png": "[encoded data removed]",
            "text/plain": [
              "<Figure size 1080x432 with 4 Axes>"
            ]
          },
          "metadata": {
            "tags": []
          }
        }
      ]
    },
    {
      "cell_type": "markdown",
      "metadata": {
        "id": "bug4E0fnOUc3",
        "colab_type": "text"
      },
      "source": [
        "On observe que la moyenne du montant des transactions est plus élevée dans le groupe des fraudes."
      ]
    },
    {
      "cell_type": "code",
      "metadata": {
        "id": "XMYrjmJS6SDd",
        "colab_type": "code",
        "colab": {
          "base_uri": "https://localhost:8080/",
          "height": 51
        },
        "outputId": "b50abde5-a4a2-41bb-cbae-b6bd188d6ac0"
      },
      "source": [
        "print('Mean transaction amt for fraud is {:.4f}'.format(train.loc[train['isFraud'] == 1]['TransactionAmt'].mean()))\n",
        "print('Mean transaction amt for non-fraud is {:.4f}'.format(train.loc[train['isFraud'] == 0]['TransactionAmt'].mean()))"
      ],
      "execution_count": 29,
      "outputs": [
        {
          "output_type": "stream",
          "text": [
            "Mean transaction amt for fraud is 149.2448\n",
            "Mean transaction amt for non-fraud is 134.5117\n"
          ],
          "name": "stdout"
        }
      ]
    },
    {
      "cell_type": "markdown",
      "metadata": {
        "id": "GMqQSBKcPGII",
        "colab_type": "text"
      },
      "source": [
        "## ProductCD"
      ]
    },
    {
      "cell_type": "markdown",
      "metadata": {
        "id": "EXKpGM1rPeq2",
        "colab_type": "text"
      },
      "source": [
        "Le produit pour chaque transaction."
      ]
    },
    {
      "cell_type": "code",
      "metadata": {
        "id": "uUHLMMggPnuy",
        "colab_type": "code",
        "colab": {}
      },
      "source": [
        "train.groupby('ProductCD') \\\n",
        "    ['TransactionID'].count() \\\n",
        "    .sort_index() \\\n",
        "    .plot(kind='barh',\n",
        "          figsize=(15, 3),\n",
        "         title='Count of Observations by ProductCD')\n",
        "plt.show()"
      ],
      "execution_count": 0,
      "outputs": []
    },
    {
      "cell_type": "code",
      "metadata": {
        "id": "GymeqMsJ6zm_",
        "colab_type": "code",
        "colab": {
          "base_uri": "https://localhost:8080/",
          "height": 230
        },
        "outputId": "20cea02d-e21d-4d11-d044-f2dca635ca73"
      },
      "source": [
        "train.groupby('ProductCD')['isFraud'] \\\n",
        "    .mean() \\\n",
        "    .sort_index() \\\n",
        "    .plot(kind='barh',\n",
        "          figsize=(15, 3),\n",
        "         title='Percentage of Fraud by ProductCD')\n",
        "plt.show()"
      ],
      "execution_count": 31,
      "outputs": [
        {
          "output_type": "display_data",
          "data": {
            "image/png": "[encoded data removed]",
            "text/plain": [
              "<Figure size 1080x216 with 1 Axes>"
            ]
          },
          "metadata": {
            "tags": []
          }
        }
      ]
    },
    {
      "cell_type": "markdown",
      "metadata": {
        "id": "2iZjoSbiQAKE",
        "colab_type": "text"
      },
      "source": [
        "On observe que :\n",
        " - W a le plus grand nombre d'observations, C a le moins.\n",
        " - C a le plus grand pourcentage de fraude >11%\n",
        " - W a le moins avec ~2%"
      ]
    },
    {
      "cell_type": "markdown",
      "metadata": {
        "id": "GM98gIxVQQxQ",
        "colab_type": "text"
      },
      "source": [
        "## card1 - card6"
      ]
    },
    {
      "cell_type": "markdown",
      "metadata": {
        "id": "__CRnHYkQbe0",
        "colab_type": "text"
      },
      "source": [
        "Informations sur les cartes de paiement."
      ]
    },
    {
      "cell_type": "code",
      "metadata": {
        "id": "4dCMmg1P7S7R",
        "colab_type": "code",
        "colab": {
          "base_uri": "https://localhost:8080/",
          "height": 204
        },
        "outputId": "9990aa06-bb32-4372-986c-a23e3d51e3db"
      },
      "source": [
        "card_cols = [c for c in train.columns if 'card' in c]\n",
        "train[card_cols].head()"
      ],
      "execution_count": 32,
      "outputs": [
        {
          "output_type": "execute_result",
          "data": {
            "text/html": [
              "<div>\n",
              "<style scoped>\n",
              "    .dataframe tbody tr th:only-of-type {\n",
              "        vertical-align: middle;\n",
              "    }\n",
              "\n",
              "    .dataframe tbody tr th {\n",
              "        vertical-align: top;\n",
              "    }\n",
              "\n",
              "    .dataframe thead th {\n",
              "        text-align: right;\n",
              "    }\n",
              "</style>\n",
              "<table border=\"1\" class=\"dataframe\">\n",
              "  <thead>\n",
              "    <tr style=\"text-align: right;\">\n",
              "      <th></th>\n",
              "      <th>card1</th>\n",
              "      <th>card2</th>\n",
              "      <th>card3</th>\n",
              "      <th>card4</th>\n",
              "      <th>card5</th>\n",
              "      <th>card6</th>\n",
              "    </tr>\n",
              "  </thead>\n",
              "  <tbody>\n",
              "    <tr>\n",
              "      <th>0</th>\n",
              "      <td>13926</td>\n",
              "      <td>NaN</td>\n",
              "      <td>150.0</td>\n",
              "      <td>discover</td>\n",
              "      <td>142.0</td>\n",
              "      <td>credit</td>\n",
              "    </tr>\n",
              "    <tr>\n",
              "      <th>1</th>\n",
              "      <td>2755</td>\n",
              "      <td>404.0</td>\n",
              "      <td>150.0</td>\n",
              "      <td>mastercard</td>\n",
              "      <td>102.0</td>\n",
              "      <td>credit</td>\n",
              "    </tr>\n",
              "    <tr>\n",
              "      <th>2</th>\n",
              "      <td>4663</td>\n",
              "      <td>490.0</td>\n",
              "      <td>150.0</td>\n",
              "      <td>visa</td>\n",
              "      <td>166.0</td>\n",
              "      <td>debit</td>\n",
              "    </tr>\n",
              "    <tr>\n",
              "      <th>3</th>\n",
              "      <td>18132</td>\n",
              "      <td>567.0</td>\n",
              "      <td>150.0</td>\n",
              "      <td>mastercard</td>\n",
              "      <td>117.0</td>\n",
              "      <td>debit</td>\n",
              "    </tr>\n",
              "    <tr>\n",
              "      <th>4</th>\n",
              "      <td>4497</td>\n",
              "      <td>514.0</td>\n",
              "      <td>150.0</td>\n",
              "      <td>mastercard</td>\n",
              "      <td>102.0</td>\n",
              "      <td>credit</td>\n",
              "    </tr>\n",
              "  </tbody>\n",
              "</table>\n",
              "</div>"
            ],
            "text/plain": [
              "   card1  card2  card3       card4  card5   card6\n",
              "0  13926    NaN  150.0    discover  142.0  credit\n",
              "1   2755  404.0  150.0  mastercard  102.0  credit\n",
              "2   4663  490.0  150.0        visa  166.0   debit\n",
              "3  18132  567.0  150.0  mastercard  117.0   debit\n",
              "4   4497  514.0  150.0  mastercard  102.0  credit"
            ]
          },
          "metadata": {
            "tags": []
          },
          "execution_count": 32
        }
      ]
    },
    {
      "cell_type": "code",
      "metadata": {
        "id": "WV6Wdoxb7oIP",
        "colab_type": "code",
        "colab": {
          "base_uri": "https://localhost:8080/",
          "height": 653
        },
        "outputId": "6d1555f2-2bb2-4738-f65a-f7527ea82841"
      },
      "source": [
        "color_idx = 0\n",
        "for c in card_cols:\n",
        "    if train[c].dtype in ['float64','int64']:\n",
        "        train[c].plot(kind='hist',\n",
        "                                      title=c,\n",
        "                                      bins=50,\n",
        "                                      figsize=(15, 2),\n",
        "                                      color=color_pal[color_idx])\n",
        "    color_idx += 1\n",
        "    plt.show()"
      ],
      "execution_count": 33,
      "outputs": [
        {
          "output_type": "display_data",
          "data": {
            "image/png": "[encoded data removed]",
            "text/plain": [
              "<Figure size 1080x144 with 1 Axes>"
            ]
          },
          "metadata": {
            "tags": []
          }
        },
        {
          "output_type": "display_data",
          "data": {
            "image/png": "[encoded data removed]",
            "text/plain": [
              "<Figure size 1080x144 with 1 Axes>"
            ]
          },
          "metadata": {
            "tags": []
          }
        },
        {
          "output_type": "display_data",
          "data": {
            "image/png": "[encoded data removed]",
            "text/plain": [
              "<Figure size 1080x144 with 1 Axes>"
            ]
          },
          "metadata": {
            "tags": []
          }
        },
        {
          "output_type": "display_data",
          "data": {
            "image/png": "[encoded data removed]",
            "text/plain": [
              "<Figure size 1080x144 with 1 Axes>"
            ]
          },
          "metadata": {
            "tags": []
          }
        }
      ]
    },
    {
      "cell_type": "code",
      "metadata": {
        "id": "dluNo50bRYs4",
        "colab_type": "code",
        "colab": {}
      },
      "source": [
        "train_fr = train.loc[train['isFraud'] == 1]\n",
        "train_nofr = train.loc[train['isFraud'] == 0]\n",
        "fig, ((ax1, ax2), (ax3, ax4)) = plt.subplots(2, 2, figsize=(15, 8))\n",
        "train_fr.groupby('card4')['card4'].count().plot(kind='barh', ax=ax1, title='Count of card4 fraud')\n",
        "train_nofr.groupby('card4')['card4'].count().plot(kind='barh', ax=ax2, title='Count of card4 non-fraud')\n",
        "train_fr.groupby('card6')['card6'].count().plot(kind='barh', ax=ax3, title='Count of card6 fraud')\n",
        "train_nofr.groupby('card6')['card6'].count().plot(kind='barh', ax=ax4, title='Count of card6 non-fraud')\n",
        "plt.show()"
      ],
      "execution_count": 0,
      "outputs": []
    },
    {
      "cell_type": "markdown",
      "metadata": {
        "id": "C1eW2GXnSKnu",
        "colab_type": "text"
      },
      "source": [
        "## DeviceType"
      ]
    },
    {
      "cell_type": "code",
      "metadata": {
        "id": "UggFqCK_SM_a",
        "colab_type": "code",
        "colab": {}
      },
      "source": [
        "train.groupby('DeviceType') \\\n",
        "    .mean()['isFraud'] \\\n",
        "    .sort_values() \\\n",
        "    .plot(kind='barh',\n",
        "          figsize=(15, 5),\n",
        "          title='Percentage of Fraud by Device Type')\n",
        "plt.show()"
      ],
      "execution_count": 0,
      "outputs": []
    },
    {
      "cell_type": "markdown",
      "metadata": {
        "id": "EqyGLMDHSUEo",
        "colab_type": "text"
      },
      "source": [
        "## DeviceInfo"
      ]
    },
    {
      "cell_type": "code",
      "metadata": {
        "id": "wxHJ8szjSWiB",
        "colab_type": "code",
        "colab": {}
      },
      "source": [
        "train_identity_.groupby('DeviceInfo') \\\n",
        "    .count()['TransactionID'] \\\n",
        "    .sort_values(ascending=False) \\\n",
        "    .head(20) \\\n",
        "    .plot(kind='barh', figsize=(15, 5), title='Top 20 Devices in Train')\n",
        "plt.show()"
      ],
      "execution_count": 0,
      "outputs": []
    },
    {
      "cell_type": "markdown",
      "metadata": {
        "id": "tb7qD_Hp4zt2",
        "colab_type": "text"
      },
      "source": [
        "The TransactionDT feature is a timedelta from a given reference datetime (not an actual timestamp). One early discovery about the data is that the train and test appear to be split by time. There is a slight gap inbetween, but otherwise the training set is from an earlier period of time and test is from a later period of time. This will impact which cross validation techniques should be used.\n",
        "\n",
        "We will look into this more when reviewing differences in distribution of features between train and test."
      ]
    },
    {
      "cell_type": "code",
      "metadata": {
        "id": "guT1ZP2bc9gO",
        "colab_type": "code",
        "colab": {
          "base_uri": "https://localhost:8080/",
          "height": 298
        },
        "outputId": "f803701e-fb4c-4b41-a274-3b95b264df72"
      },
      "source": [
        "plt.hist(train['TransactionDT'], label='train');\n",
        "plt.hist(test['TransactionDT'], label='test');\n",
        "plt.legend();\n",
        "plt.title('Transaction dates');"
      ],
      "execution_count": 38,
      "outputs": [
        {
          "output_type": "display_data",
          "data": {
            "image/png": "[encoded data removed]",
            "text/plain": [
              "<Figure size 432x288 with 1 Axes>"
            ]
          },
          "metadata": {
            "tags": []
          }
        }
      ]
    },
    {
      "cell_type": "markdown",
      "metadata": {
        "id": "ByEjTsfpme9o",
        "colab_type": "text"
      },
      "source": [
        "Above, it is shown that the dates of Train and Test data have an empty intersection."
      ]
    },
    {
      "cell_type": "code",
      "metadata": {
        "id": "xwI14rWHVQe4",
        "colab_type": "code",
        "colab": {}
      },
      "source": [
        "X = train.sort_values('TransactionDT').drop(['isFraud', 'TransactionDT'], axis=1)\n",
        "y = train.sort_values('TransactionDT')['isFraud']\n",
        "\n",
        "X_test = test.drop(['TransactionDT'], axis=1)\n",
        "\n",
        "del train, test"
      ],
      "execution_count": 0,
      "outputs": []
    }
  ]
}