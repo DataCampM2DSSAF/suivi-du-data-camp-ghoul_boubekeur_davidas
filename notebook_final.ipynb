{
 "cells": [
  {
   "cell_type": "markdown",
   "metadata": {},
   "source": [
    "# IEEE Fraud Detection"
   ]
  },
  {
   "cell_type": "markdown",
   "metadata": {},
   "source": [
    "La détection des fraudes en ligne est l'une des problématiques les plus courantes et sensibles dans de nombreux secteurs, en particulier les banques. Au cours des dernières années, les tentatives de fraude ont connu une forte hausse, ce qui rend la lutte contre ce phénomène très importante. \n",
    "\n",
    "Cette compétition est un problème de classification binaire - c'est-à-dire que notre variable cible est un attribut binaire (l'utilisateur fait-il le clic frauduleux ou non?)\n",
    "\n",
    "Et notre objectif est de classer les utilisateurs en \"frauduleux\" ou \"non frauduleux\" le mieux possible.\n",
    "\n",
    "On cherche à prédire la probabilité qu'une transaction en ligne soit frauduleuse."
   ]
  },
  {
   "cell_type": "markdown",
   "metadata": {},
   "source": [
    "# Packages nécessaires"
   ]
  },
  {
   "cell_type": "code",
   "execution_count": 1,
   "metadata": {},
   "outputs": [],
   "source": [
    "import numpy as np     \n",
    "import pandas as pd   \n",
    "import matplotlib.pyplot as plt   \n",
    "import seaborn as sns        \n",
    "\n",
    "from scipy import stats\n",
    "from sklearn.linear_model import LogisticRegression\n",
    "from sklearn.model_selection import train_test_split\n",
    "from sklearn.metrics import roc_auc_score\n",
    "from sklearn.model_selection import cross_val_score\n",
    "from sklearn.preprocessing import LabelEncoder\n",
    "from sklearn.preprocessing import OneHotEncoder\n",
    "from sklearn.neighbors import KNeighborsClassifier\n",
    "from sklearn.tree import DecisionTreeClassifier\n",
    "from sklearn.ensemble import AdaBoostClassifier\n",
    "from sklearn.model_selection import cross_val_score\n",
    "from sklearn.model_selection import GridSearchCV\n",
    "from sklearn.ensemble import RandomForestClassifier\n",
    "from sklearn.metrics import roc_auc_score\n",
    "from sklearn.model_selection import cross_val_score\n",
    "from sklearn.metrics import classification_report, confusion_matrix\n",
    "from sklearn.model_selection import RandomizedSearchCV\n",
    "import time\n",
    "import random\n",
    "from sklearn import linear_model\n",
    "from sklearn.preprocessing import StandardScaler\n",
    "import warnings\n",
    "warnings.filterwarnings(\"ignore\")\n",
    "\n",
    "sns.set() "
   ]
  },
  {
   "cell_type": "markdown",
   "metadata": {},
   "source": [
    "# Import des données"
   ]
  },
  {
   "cell_type": "markdown",
   "metadata": {},
   "source": [
    "Commençons par vérifier les données submission."
   ]
  },
  {
   "cell_type": "code",
   "execution_count": 2,
   "metadata": {},
   "outputs": [
    {
     "data": {
      "text/html": [
       "<div>\n",
       "<style scoped>\n",
       "    .dataframe tbody tr th:only-of-type {\n",
       "        vertical-align: middle;\n",
       "    }\n",
       "\n",
       "    .dataframe tbody tr th {\n",
       "        vertical-align: top;\n",
       "    }\n",
       "\n",
       "    .dataframe thead th {\n",
       "        text-align: right;\n",
       "    }\n",
       "</style>\n",
       "<table border=\"1\" class=\"dataframe\">\n",
       "  <thead>\n",
       "    <tr style=\"text-align: right;\">\n",
       "      <th></th>\n",
       "      <th>TransactionID</th>\n",
       "      <th>isFraud</th>\n",
       "    </tr>\n",
       "  </thead>\n",
       "  <tbody>\n",
       "    <tr>\n",
       "      <th>0</th>\n",
       "      <td>3663549</td>\n",
       "      <td>0.5</td>\n",
       "    </tr>\n",
       "    <tr>\n",
       "      <th>1</th>\n",
       "      <td>3663550</td>\n",
       "      <td>0.5</td>\n",
       "    </tr>\n",
       "    <tr>\n",
       "      <th>2</th>\n",
       "      <td>3663551</td>\n",
       "      <td>0.5</td>\n",
       "    </tr>\n",
       "    <tr>\n",
       "      <th>3</th>\n",
       "      <td>3663552</td>\n",
       "      <td>0.5</td>\n",
       "    </tr>\n",
       "    <tr>\n",
       "      <th>4</th>\n",
       "      <td>3663553</td>\n",
       "      <td>0.5</td>\n",
       "    </tr>\n",
       "  </tbody>\n",
       "</table>\n",
       "</div>"
      ],
      "text/plain": [
       "   TransactionID  isFraud\n",
       "0        3663549      0.5\n",
       "1        3663550      0.5\n",
       "2        3663551      0.5\n",
       "3        3663552      0.5\n",
       "4        3663553      0.5"
      ]
     },
     "execution_count": 2,
     "metadata": {},
     "output_type": "execute_result"
    }
   ],
   "source": [
    "data_sub = pd.read_csv('C:/Users/boubekeur/Documents/datacamp/sample_submission.csv')\n",
    "data_sub.head()"
   ]
  },
  {
   "cell_type": "code",
   "execution_count": 3,
   "metadata": {},
   "outputs": [],
   "source": [
    "del data_sub"
   ]
  },
  {
   "cell_type": "markdown",
   "metadata": {},
   "source": [
    "On charge maintenant, les données trains et tests. Les données sont divisées en deux fichiers d'identité et de transaction"
   ]
  },
  {
   "cell_type": "code",
   "execution_count": 27,
   "metadata": {},
   "outputs": [],
   "source": [
    "train_id = pd.read_csv('C:/Users/boubekeur/Documents/datacamp/train_identity.csv')\n",
    "train_trans = pd.read_csv('C:/Users/boubekeur/Documents/datacamp/train_transaction.csv')\n",
    "test_id = pd.read_csv('C:/Users/boubekeur/Documents/datacamp/test_identity.csv')\n",
    "test_trans = pd.read_csv('C:/Users/boubekeur/Documents/datacamp/test_transaction.csv')"
   ]
  },
  {
   "cell_type": "code",
   "execution_count": 28,
   "metadata": {},
   "outputs": [
    {
     "data": {
      "text/html": [
       "<div>\n",
       "<style scoped>\n",
       "    .dataframe tbody tr th:only-of-type {\n",
       "        vertical-align: middle;\n",
       "    }\n",
       "\n",
       "    .dataframe tbody tr th {\n",
       "        vertical-align: top;\n",
       "    }\n",
       "\n",
       "    .dataframe thead th {\n",
       "        text-align: right;\n",
       "    }\n",
       "</style>\n",
       "<table border=\"1\" class=\"dataframe\">\n",
       "  <thead>\n",
       "    <tr style=\"text-align: right;\">\n",
       "      <th></th>\n",
       "      <th>TransactionID</th>\n",
       "      <th>id_01</th>\n",
       "      <th>id_02</th>\n",
       "      <th>id_03</th>\n",
       "      <th>id_04</th>\n",
       "      <th>id_05</th>\n",
       "      <th>id_06</th>\n",
       "      <th>id_07</th>\n",
       "      <th>id_08</th>\n",
       "      <th>id_09</th>\n",
       "      <th>...</th>\n",
       "      <th>id_31</th>\n",
       "      <th>id_32</th>\n",
       "      <th>id_33</th>\n",
       "      <th>id_34</th>\n",
       "      <th>id_35</th>\n",
       "      <th>id_36</th>\n",
       "      <th>id_37</th>\n",
       "      <th>id_38</th>\n",
       "      <th>DeviceType</th>\n",
       "      <th>DeviceInfo</th>\n",
       "    </tr>\n",
       "  </thead>\n",
       "  <tbody>\n",
       "    <tr>\n",
       "      <th>0</th>\n",
       "      <td>2987004</td>\n",
       "      <td>0.0</td>\n",
       "      <td>70787.0</td>\n",
       "      <td>NaN</td>\n",
       "      <td>NaN</td>\n",
       "      <td>NaN</td>\n",
       "      <td>NaN</td>\n",
       "      <td>NaN</td>\n",
       "      <td>NaN</td>\n",
       "      <td>NaN</td>\n",
       "      <td>...</td>\n",
       "      <td>samsung browser 6.2</td>\n",
       "      <td>32.0</td>\n",
       "      <td>2220x1080</td>\n",
       "      <td>match_status:2</td>\n",
       "      <td>T</td>\n",
       "      <td>F</td>\n",
       "      <td>T</td>\n",
       "      <td>T</td>\n",
       "      <td>mobile</td>\n",
       "      <td>SAMSUNG SM-G892A Build/NRD90M</td>\n",
       "    </tr>\n",
       "    <tr>\n",
       "      <th>1</th>\n",
       "      <td>2987008</td>\n",
       "      <td>-5.0</td>\n",
       "      <td>98945.0</td>\n",
       "      <td>NaN</td>\n",
       "      <td>NaN</td>\n",
       "      <td>0.0</td>\n",
       "      <td>-5.0</td>\n",
       "      <td>NaN</td>\n",
       "      <td>NaN</td>\n",
       "      <td>NaN</td>\n",
       "      <td>...</td>\n",
       "      <td>mobile safari 11.0</td>\n",
       "      <td>32.0</td>\n",
       "      <td>1334x750</td>\n",
       "      <td>match_status:1</td>\n",
       "      <td>T</td>\n",
       "      <td>F</td>\n",
       "      <td>F</td>\n",
       "      <td>T</td>\n",
       "      <td>mobile</td>\n",
       "      <td>iOS Device</td>\n",
       "    </tr>\n",
       "    <tr>\n",
       "      <th>2</th>\n",
       "      <td>2987010</td>\n",
       "      <td>-5.0</td>\n",
       "      <td>191631.0</td>\n",
       "      <td>0.0</td>\n",
       "      <td>0.0</td>\n",
       "      <td>0.0</td>\n",
       "      <td>0.0</td>\n",
       "      <td>NaN</td>\n",
       "      <td>NaN</td>\n",
       "      <td>0.0</td>\n",
       "      <td>...</td>\n",
       "      <td>chrome 62.0</td>\n",
       "      <td>NaN</td>\n",
       "      <td>NaN</td>\n",
       "      <td>NaN</td>\n",
       "      <td>F</td>\n",
       "      <td>F</td>\n",
       "      <td>T</td>\n",
       "      <td>T</td>\n",
       "      <td>desktop</td>\n",
       "      <td>Windows</td>\n",
       "    </tr>\n",
       "    <tr>\n",
       "      <th>3</th>\n",
       "      <td>2987011</td>\n",
       "      <td>-5.0</td>\n",
       "      <td>221832.0</td>\n",
       "      <td>NaN</td>\n",
       "      <td>NaN</td>\n",
       "      <td>0.0</td>\n",
       "      <td>-6.0</td>\n",
       "      <td>NaN</td>\n",
       "      <td>NaN</td>\n",
       "      <td>NaN</td>\n",
       "      <td>...</td>\n",
       "      <td>chrome 62.0</td>\n",
       "      <td>NaN</td>\n",
       "      <td>NaN</td>\n",
       "      <td>NaN</td>\n",
       "      <td>F</td>\n",
       "      <td>F</td>\n",
       "      <td>T</td>\n",
       "      <td>T</td>\n",
       "      <td>desktop</td>\n",
       "      <td>NaN</td>\n",
       "    </tr>\n",
       "    <tr>\n",
       "      <th>4</th>\n",
       "      <td>2987016</td>\n",
       "      <td>0.0</td>\n",
       "      <td>7460.0</td>\n",
       "      <td>0.0</td>\n",
       "      <td>0.0</td>\n",
       "      <td>1.0</td>\n",
       "      <td>0.0</td>\n",
       "      <td>NaN</td>\n",
       "      <td>NaN</td>\n",
       "      <td>0.0</td>\n",
       "      <td>...</td>\n",
       "      <td>chrome 62.0</td>\n",
       "      <td>24.0</td>\n",
       "      <td>1280x800</td>\n",
       "      <td>match_status:2</td>\n",
       "      <td>T</td>\n",
       "      <td>F</td>\n",
       "      <td>T</td>\n",
       "      <td>T</td>\n",
       "      <td>desktop</td>\n",
       "      <td>MacOS</td>\n",
       "    </tr>\n",
       "  </tbody>\n",
       "</table>\n",
       "<p>5 rows × 41 columns</p>\n",
       "</div>"
      ],
      "text/plain": [
       "   TransactionID  id_01     id_02  id_03  id_04  id_05  id_06  id_07  id_08  \\\n",
       "0        2987004    0.0   70787.0    NaN    NaN    NaN    NaN    NaN    NaN   \n",
       "1        2987008   -5.0   98945.0    NaN    NaN    0.0   -5.0    NaN    NaN   \n",
       "2        2987010   -5.0  191631.0    0.0    0.0    0.0    0.0    NaN    NaN   \n",
       "3        2987011   -5.0  221832.0    NaN    NaN    0.0   -6.0    NaN    NaN   \n",
       "4        2987016    0.0    7460.0    0.0    0.0    1.0    0.0    NaN    NaN   \n",
       "\n",
       "   id_09  ...                id_31  id_32      id_33           id_34  id_35  \\\n",
       "0    NaN  ...  samsung browser 6.2   32.0  2220x1080  match_status:2      T   \n",
       "1    NaN  ...   mobile safari 11.0   32.0   1334x750  match_status:1      T   \n",
       "2    0.0  ...          chrome 62.0    NaN        NaN             NaN      F   \n",
       "3    NaN  ...          chrome 62.0    NaN        NaN             NaN      F   \n",
       "4    0.0  ...          chrome 62.0   24.0   1280x800  match_status:2      T   \n",
       "\n",
       "  id_36 id_37  id_38  DeviceType                     DeviceInfo  \n",
       "0     F     T      T      mobile  SAMSUNG SM-G892A Build/NRD90M  \n",
       "1     F     F      T      mobile                     iOS Device  \n",
       "2     F     T      T     desktop                        Windows  \n",
       "3     F     T      T     desktop                            NaN  \n",
       "4     F     T      T     desktop                          MacOS  \n",
       "\n",
       "[5 rows x 41 columns]"
      ]
     },
     "execution_count": 28,
     "metadata": {},
     "output_type": "execute_result"
    }
   ],
   "source": [
    "train_id.head()"
   ]
  },
  {
   "cell_type": "markdown",
   "metadata": {},
   "source": [
    "On rassemble les données train et test via la variable TransactionID."
   ]
  },
  {
   "cell_type": "code",
   "execution_count": 29,
   "metadata": {},
   "outputs": [],
   "source": [
    "TransactionID = test_id[\"TransactionID\"]"
   ]
  },
  {
   "cell_type": "code",
   "execution_count": 30,
   "metadata": {},
   "outputs": [],
   "source": [
    "train = pd.merge(train_trans, train_id, on='TransactionID', how='left')\n",
    "test = pd.merge(test_trans, test_id, on='TransactionID', how='left')"
   ]
  },
  {
   "cell_type": "code",
   "execution_count": 31,
   "metadata": {},
   "outputs": [],
   "source": [
    "del train_id, train_trans, test_id, test_trans"
   ]
  },
  {
   "cell_type": "markdown",
   "metadata": {},
   "source": [
    " - Réduction de mémoire"
   ]
  },
  {
   "cell_type": "code",
   "execution_count": 32,
   "metadata": {},
   "outputs": [],
   "source": [
    "def reduce_mem_usage(df, verbose=True):\n",
    "    numerics = ['int16', 'int32', 'int64', 'float16', 'float32', 'float64']\n",
    "    start_mem = df.memory_usage().sum() / 1024**2    \n",
    "    for col in df.columns:\n",
    "        col_type = df[col].dtypes\n",
    "        if col_type in numerics:\n",
    "            c_min = df[col].min()\n",
    "            c_max = df[col].max()\n",
    "            if str(col_type)[:3] == 'int':\n",
    "                if c_min > np.iinfo(np.int8).min and c_max < np.iinfo(np.int8).max:\n",
    "                    df[col] = df[col].astype(np.int8)\n",
    "                elif c_min > np.iinfo(np.int16).min and c_max < np.iinfo(np.int16).max:\n",
    "                    df[col] = df[col].astype(np.int16)\n",
    "                elif c_min > np.iinfo(np.int32).min and c_max < np.iinfo(np.int32).max:\n",
    "                    df[col] = df[col].astype(np.int32)\n",
    "                elif c_min > np.iinfo(np.int64).min and c_max < np.iinfo(np.int64).max:\n",
    "                    df[col] = df[col].astype(np.int64)  \n",
    "            else:\n",
    "                if c_min > np.finfo(np.float16).min and c_max < np.finfo(np.float16).max:\n",
    "                    df[col] = df[col].astype(np.float16)\n",
    "                elif c_min > np.finfo(np.float32).min and c_max < np.finfo(np.float32).max:\n",
    "                    df[col] = df[col].astype(np.float32)\n",
    "                else:\n",
    "                    df[col] = df[col].astype(np.float64)    \n",
    "    end_mem = df.memory_usage().sum() / 1024**2\n",
    "    if verbose: \n",
    "        print('Mem. usage decreased to {:5.2f} Mb ({:.1f}% reduction)'.format(end_mem, 100 * (start_mem - end_mem) / start_mem))\n",
    "    return df"
   ]
  },
  {
   "cell_type": "code",
   "execution_count": 33,
   "metadata": {},
   "outputs": [
    {
     "name": "stdout",
     "output_type": "stream",
     "text": [
      "Mem. usage decreased to 650.48 Mb (66.8% reduction)\n",
      "Mem. usage decreased to 565.37 Mb (66.3% reduction)\n"
     ]
    }
   ],
   "source": [
    "train = reduce_mem_usage(train)\n",
    "test = reduce_mem_usage(test)"
   ]
  },
  {
   "cell_type": "markdown",
   "metadata": {},
   "source": [
    "# Visualisation des données"
   ]
  },
  {
   "cell_type": "markdown",
   "metadata": {},
   "source": [
    "Tout d'abord, on visualise les données à l'aide de graphiques et de tests statistiques."
   ]
  },
  {
   "cell_type": "markdown",
   "metadata": {},
   "source": [
    "**Données \"object\"**"
   ]
  },
  {
   "cell_type": "code",
   "execution_count": 34,
   "metadata": {},
   "outputs": [
    {
     "name": "stdout",
     "output_type": "stream",
     "text": [
      "['ProductCD', 'card4', 'card6', 'P_emaildomain', 'R_emaildomain', 'M1', 'M2', 'M3', 'M4', 'M5', 'M6', 'M7', 'M8', 'M9', 'id_12', 'id_15', 'id_16', 'id_23', 'id_27', 'id_28', 'id_29', 'id_30', 'id_31', 'id_33', 'id_34', 'id_35', 'id_36', 'id_37', 'id_38', 'DeviceType', 'DeviceInfo']\n"
     ]
    }
   ],
   "source": [
    "cat_cols = list(train.select_dtypes(include=['object']).columns)\n",
    "print(cat_cols)"
   ]
  },
  {
   "cell_type": "markdown",
   "metadata": {},
   "source": [
    " Variables discrètes :\n",
    "\n",
    " - ProductCD\n",
    " - emaildomain\n",
    " - card1 - card6\n",
    " - addr1, addr2\n",
    " - P_emaildomain\n",
    " - R_emaildomain\n",
    " - M1 - M9\n",
    " - DeviceType\n",
    " - DeviceInfo\n",
    " - id_12 - id_38"
   ]
  },
  {
   "cell_type": "markdown",
   "metadata": {},
   "source": [
    "Le reste des variables sont numériques."
   ]
  },
  {
   "cell_type": "markdown",
   "metadata": {},
   "source": [
    "Nous avons quelques informations sur certaines variables :\n",
    "\n",
    " - TransactionDT: timedelta à partir d'une datetime de référence donnée (pas un horodatage réel)\n",
    " - TransactionAMT: c'est le montant de la transaction en USD\n",
    " - ProductCD: code produit pour chaque transaction\n",
    " - card1 - card6: Informations sur la carte de paiement\n",
    " - addr: adresse de l'acheteur et du destinataire\n",
    " - addr1: région de facturation\n",
    " - addr2: pays de facturation\n",
    " - dist: distance entre (sans limitation) l'adresse de facturation, l'adresse postale, le code postal, l'adresse IP, la zone téléphonique, etc. \n",
    " - Domaine de messagerie P_ et (R_): domaine de messagerie de l'acheteur et du destinataire \n",
    " - C1-C14: comptage, comme le nombre d'adresses associées à la carte de paiement, etc. La signification réelle est masquée. \n",
    " - D1-D15: Timedelta, comme les jours entre la transaction précédente, etc. \n",
    " - M1-M9: Correspondance, comme les noms sur la carte et l'adresse, etc.\n",
    " - Vxxx: Vesta a conçu de riches fonctionnalités, notamment le classement, le comptage et d'autres relations d'entité.\n",
    " - id01-id11: Fonctionnalités numériques pour l'identité\n",
    " - IsFraud = 1 signifie transaction fradulente, sinon transaction non-fradulente."
   ]
  },
  {
   "cell_type": "markdown",
   "metadata": {},
   "source": [
    "## Target : isFraud"
   ]
  },
  {
   "cell_type": "code",
   "execution_count": 35,
   "metadata": {},
   "outputs": [
    {
     "data": {
      "image/png": "[encoded data removed]",
      "text/plain": [
       "<Figure size 1080x216 with 1 Axes>"
      ]
     },
     "metadata": {},
     "output_type": "display_data"
    }
   ],
   "source": [
    "train.groupby('isFraud') \\\n",
    "    .count()['TransactionID'] \\\n",
    "    .plot(kind='barh',\n",
    "          title='Distribution of Target in Train',\n",
    "          figsize=(15, 3))\n",
    "plt.show()"
   ]
  },
  {
   "cell_type": "markdown",
   "metadata": {},
   "source": [
    "On peut voir clairement que la plupart des transactions sont non frauduleuses. \n",
    "\n",
    "Si on utilise cette base de données comme base pour nos modèles prédictifs et nos analyses, nous pourrions obtenir beaucoup d'erreurs et nos algorithmes seront probablement trop adaptés car ils \"supposeront\" que la plupart des transactions ne sont pas frauduleuses."
   ]
  },
  {
   "cell_type": "markdown",
   "metadata": {},
   "source": [
    "## Transaction Amt"
   ]
  },
  {
   "cell_type": "markdown",
   "metadata": {},
   "source": [
    "Cette variable décrit le montant de la transaction.\n",
    "\n",
    "On trace la distribution du logarithme de cette variable pour obtenir une représentation de la variable plus lisible."
   ]
  },
  {
   "cell_type": "code",
   "execution_count": 36,
   "metadata": {},
   "outputs": [],
   "source": [
    "plt.style.use('ggplot')\n",
    "color_pal = [x['color'] for x in plt.rcParams['axes.prop_cycle']]"
   ]
  },
  {
   "cell_type": "code",
   "execution_count": 37,
   "metadata": {},
   "outputs": [
    {
     "data": {
      "image/png": "[encoded data removed]",
      "text/plain": [
       "<Figure size 1080x432 with 4 Axes>"
      ]
     },
     "metadata": {},
     "output_type": "display_data"
    }
   ],
   "source": [
    "fig, ((ax1, ax2), (ax3, ax4)) = plt.subplots(2, 2, figsize=(15, 6))\n",
    "train.loc[train['isFraud'] == 1] \\\n",
    "    ['TransactionAmt'].apply(np.log) \\\n",
    "    .plot(kind='hist',\n",
    "          bins=100,\n",
    "          title='Log Transaction Amt - Fraud',\n",
    "          color=color_pal[1],\n",
    "          xlim=(-3, 10),\n",
    "         ax= ax1)\n",
    "train.loc[train['isFraud'] == 0] \\\n",
    "    ['TransactionAmt'].apply(np.log) \\\n",
    "    .plot(kind='hist',\n",
    "          bins=100,\n",
    "          title='Log Transaction Amt - Not Fraud',\n",
    "          color=color_pal[2],\n",
    "          xlim=(-3, 10),\n",
    "         ax=ax2)\n",
    "train.loc[train['isFraud'] == 1] \\\n",
    "    ['TransactionAmt'] \\\n",
    "    .plot(kind='hist',\n",
    "          bins=100,\n",
    "          title='Transaction Amt - Fraud',\n",
    "          color=color_pal[1],\n",
    "         ax= ax3)\n",
    "train.loc[train['isFraud'] == 0] \\\n",
    "    ['TransactionAmt'] \\\n",
    "    .plot(kind='hist',\n",
    "          bins=100,\n",
    "          title='Transaction Amt - Not Fraud',\n",
    "          color=color_pal[2],\n",
    "         ax=ax4)\n",
    "plt.show()\n"
   ]
  },
  {
   "cell_type": "code",
   "execution_count": 38,
   "metadata": {},
   "outputs": [
    {
     "name": "stdout",
     "output_type": "stream",
     "text": [
      "Mean transaction amt for fraud is inf\n",
      "Mean transaction amt for non-fraud is nan\n"
     ]
    }
   ],
   "source": [
    "print('Mean transaction amt for fraud is {:.4f}'.format(train.loc[train['isFraud'] == 1]['TransactionAmt'].mean()))\n",
    "print('Mean transaction amt for non-fraud is {:.4f}'.format(train.loc[train['isFraud'] == 0]['TransactionAmt'].mean()))"
   ]
  },
  {
   "cell_type": "code",
   "execution_count": 39,
   "metadata": {},
   "outputs": [
    {
     "name": "stdout",
     "output_type": "stream",
     "text": [
      "Ttest_indResult(statistic=0.0, pvalue=1.0)\n"
     ]
    }
   ],
   "source": [
    "from scipy import stats\n",
    "print(stats.ttest_ind(train.loc[train['isFraud'] == 1] \\\n",
    "    ['TransactionAmt'] ,train.loc[train['isFraud'] == 0] \\\n",
    "    ['TransactionAmt'] ,equal_var=False))"
   ]
  },
  {
   "cell_type": "markdown",
   "metadata": {},
   "source": [
    "On teste si la moyenne du montant des transactions dans le groupe des transactions frauduleuses et égale à la moyenne du montant des transactions dans le groupe des transactions non-frauduleuses.\n",
    "\n",
    "En faisant un test de student on remarque qu'il y a une différence significative entre les deux moyennes."
   ]
  },
  {
   "cell_type": "markdown",
   "metadata": {},
   "source": [
    "## ProductCD"
   ]
  },
  {
   "cell_type": "markdown",
   "metadata": {},
   "source": [
    "Le produit pour chaque transaction."
   ]
  },
  {
   "cell_type": "code",
   "execution_count": 40,
   "metadata": {},
   "outputs": [
    {
     "data": {
      "image/png": "[encoded data removed]",
      "text/plain": [
       "<Figure size 1080x216 with 1 Axes>"
      ]
     },
     "metadata": {},
     "output_type": "display_data"
    }
   ],
   "source": [
    "train.groupby('ProductCD') \\\n",
    "    ['TransactionID'].count() \\\n",
    "    .sort_index() \\\n",
    "    .plot(kind='barh',\n",
    "          figsize=(15, 3),\n",
    "         title='Count of Observations by ProductCD')\n",
    "plt.show()"
   ]
  },
  {
   "cell_type": "code",
   "execution_count": 41,
   "metadata": {},
   "outputs": [
    {
     "data": {
      "image/png": "[encoded data removed]",
      "text/plain": [
       "<Figure size 1080x216 with 1 Axes>"
      ]
     },
     "metadata": {},
     "output_type": "display_data"
    }
   ],
   "source": [
    "train.groupby('ProductCD')['isFraud'] \\\n",
    "    .mean() \\\n",
    "    .sort_index() \\\n",
    "    .plot(kind='barh',\n",
    "          figsize=(15, 3),\n",
    "         title='Percentage of Fraud by ProductCD')\n",
    "plt.show()"
   ]
  },
  {
   "cell_type": "markdown",
   "metadata": {},
   "source": [
    "On observe que :\n",
    " - W a le plus grand nombre d'observations, S a le moins.\n",
    " - C a le plus grand pourcentage de fraude >11%\n",
    " - W a le moins avec <2%"
   ]
  },
  {
   "cell_type": "markdown",
   "metadata": {},
   "source": [
    "## card1 - card6\n",
    "\n",
    "Informations sur les cartes de paiement."
   ]
  },
  {
   "cell_type": "code",
   "execution_count": 42,
   "metadata": {},
   "outputs": [
    {
     "data": {
      "text/html": [
       "<div>\n",
       "<style scoped>\n",
       "    .dataframe tbody tr th:only-of-type {\n",
       "        vertical-align: middle;\n",
       "    }\n",
       "\n",
       "    .dataframe tbody tr th {\n",
       "        vertical-align: top;\n",
       "    }\n",
       "\n",
       "    .dataframe thead th {\n",
       "        text-align: right;\n",
       "    }\n",
       "</style>\n",
       "<table border=\"1\" class=\"dataframe\">\n",
       "  <thead>\n",
       "    <tr style=\"text-align: right;\">\n",
       "      <th></th>\n",
       "      <th>card1</th>\n",
       "      <th>card2</th>\n",
       "      <th>card3</th>\n",
       "      <th>card4</th>\n",
       "      <th>card5</th>\n",
       "      <th>card6</th>\n",
       "    </tr>\n",
       "  </thead>\n",
       "  <tbody>\n",
       "    <tr>\n",
       "      <th>0</th>\n",
       "      <td>13926</td>\n",
       "      <td>NaN</td>\n",
       "      <td>150.0</td>\n",
       "      <td>discover</td>\n",
       "      <td>142.0</td>\n",
       "      <td>credit</td>\n",
       "    </tr>\n",
       "    <tr>\n",
       "      <th>1</th>\n",
       "      <td>2755</td>\n",
       "      <td>404.0</td>\n",
       "      <td>150.0</td>\n",
       "      <td>mastercard</td>\n",
       "      <td>102.0</td>\n",
       "      <td>credit</td>\n",
       "    </tr>\n",
       "    <tr>\n",
       "      <th>2</th>\n",
       "      <td>4663</td>\n",
       "      <td>490.0</td>\n",
       "      <td>150.0</td>\n",
       "      <td>visa</td>\n",
       "      <td>166.0</td>\n",
       "      <td>debit</td>\n",
       "    </tr>\n",
       "    <tr>\n",
       "      <th>3</th>\n",
       "      <td>18132</td>\n",
       "      <td>567.0</td>\n",
       "      <td>150.0</td>\n",
       "      <td>mastercard</td>\n",
       "      <td>117.0</td>\n",
       "      <td>debit</td>\n",
       "    </tr>\n",
       "    <tr>\n",
       "      <th>4</th>\n",
       "      <td>4497</td>\n",
       "      <td>514.0</td>\n",
       "      <td>150.0</td>\n",
       "      <td>mastercard</td>\n",
       "      <td>102.0</td>\n",
       "      <td>credit</td>\n",
       "    </tr>\n",
       "  </tbody>\n",
       "</table>\n",
       "</div>"
      ],
      "text/plain": [
       "   card1  card2  card3       card4  card5   card6\n",
       "0  13926    NaN  150.0    discover  142.0  credit\n",
       "1   2755  404.0  150.0  mastercard  102.0  credit\n",
       "2   4663  490.0  150.0        visa  166.0   debit\n",
       "3  18132  567.0  150.0  mastercard  117.0   debit\n",
       "4   4497  514.0  150.0  mastercard  102.0  credit"
      ]
     },
     "execution_count": 42,
     "metadata": {},
     "output_type": "execute_result"
    }
   ],
   "source": [
    "card_cols = [c for c in train.columns if 'card' in c]\n",
    "train[card_cols].head()"
   ]
  },
  {
   "cell_type": "code",
   "execution_count": 43,
   "metadata": {},
   "outputs": [],
   "source": [
    "color_idx = 0\n",
    "for c in card_cols:\n",
    "    if train[c].dtype in ['float64','int64']:\n",
    "        train[c].plot(kind='hist',\n",
    "                                      title=c,\n",
    "                                      bins=50,\n",
    "                                      figsize=(15, 2),\n",
    "                                      color=color_pal[color_idx])\n",
    "    color_idx += 1\n",
    "    plt.show()"
   ]
  },
  {
   "cell_type": "code",
   "execution_count": 44,
   "metadata": {},
   "outputs": [
    {
     "data": {
      "image/png": "[encoded data removed]",
      "text/plain": [
       "<Figure size 1080x576 with 4 Axes>"
      ]
     },
     "metadata": {},
     "output_type": "display_data"
    }
   ],
   "source": [
    "train_fr = train.loc[train['isFraud'] == 1]\n",
    "train_nofr = train.loc[train['isFraud'] == 0]\n",
    "fig, ((ax1, ax2), (ax3, ax4)) = plt.subplots(2, 2, figsize=(15, 8))\n",
    "train_fr.groupby('card4')['card4'].count().plot(kind='barh', ax=ax1, title='Count of card4 fraud')\n",
    "train_nofr.groupby('card4')['card4'].count().plot(kind='barh', ax=ax2, title='Count of card4 non-fraud')\n",
    "train_fr.groupby('card6')['card6'].count().plot(kind='barh', ax=ax3, title='Count of card6 fraud')\n",
    "train_nofr.groupby('card6')['card6'].count().plot(kind='barh', ax=ax4, title='Count of card6 non-fraud')\n",
    "plt.show()"
   ]
  },
  {
   "cell_type": "markdown",
   "metadata": {},
   "source": [
    "## DeviceType"
   ]
  },
  {
   "cell_type": "code",
   "execution_count": 45,
   "metadata": {},
   "outputs": [
    {
     "data": {
      "image/png": "[encoded data removed]",
      "text/plain": [
       "<Figure size 1080x360 with 1 Axes>"
      ]
     },
     "metadata": {},
     "output_type": "display_data"
    }
   ],
   "source": [
    "train.groupby('DeviceType') \\\n",
    "    .mean()['isFraud'] \\\n",
    "    .sort_values() \\\n",
    "    .plot(kind='barh',\n",
    "          figsize=(15, 5),\n",
    "          title='Percentage of Fraud by Device Type')\n",
    "plt.show()"
   ]
  },
  {
   "cell_type": "markdown",
   "metadata": {},
   "source": [
    "## DeviceInfo"
   ]
  },
  {
   "cell_type": "code",
   "execution_count": 46,
   "metadata": {},
   "outputs": [
    {
     "data": {
      "image/png": "[encoded data removed]",
      "text/plain": [
       "<Figure size 1080x360 with 1 Axes>"
      ]
     },
     "metadata": {},
     "output_type": "display_data"
    }
   ],
   "source": [
    "train.groupby('DeviceInfo') \\\n",
    "    .count()['TransactionID'] \\\n",
    "    .sort_values(ascending=False) \\\n",
    "    .head(20) \\\n",
    "    .plot(kind='barh', figsize=(15, 5), title='Top 20 Devices in Train')\n",
    "plt.show()"
   ]
  },
  {
   "cell_type": "markdown",
   "metadata": {},
   "source": [
    "## TransactionDT"
   ]
  },
  {
   "cell_type": "code",
   "execution_count": 47,
   "metadata": {},
   "outputs": [
    {
     "data": {
      "image/png": "[encoded data removed]",
      "text/plain": [
       "<Figure size 432x288 with 1 Axes>"
      ]
     },
     "metadata": {},
     "output_type": "display_data"
    }
   ],
   "source": [
    "plt.hist(train['TransactionDT'], label='train');\n",
    "plt.hist(test['TransactionDT'], label='test');\n",
    "plt.legend();\n",
    "plt.title('Transaction dates');"
   ]
  },
  {
   "cell_type": "markdown",
   "metadata": {},
   "source": [
    "Ci-dessus, on voit que les dates des données Train et Test ont une intersection vide."
   ]
  },
  {
   "cell_type": "code",
   "execution_count": 48,
   "metadata": {},
   "outputs": [
    {
     "data": {
      "text/plain": [
       "((590540, 432), (506691, 432))"
      ]
     },
     "execution_count": 48,
     "metadata": {},
     "output_type": "execute_result"
    }
   ],
   "source": [
    "y_train = train.isFraud\n",
    "train = train.drop(['isFraud', 'TransactionID'],axis= 1)\n",
    "transactionIDTest = test['TransactionID']\n",
    "test = test.drop('TransactionID', axis= 1)\n",
    "train.shape, test.shape"
   ]
  },
  {
   "cell_type": "markdown",
   "metadata": {},
   "source": [
    "# Valeurs manquantes"
   ]
  },
  {
   "cell_type": "markdown",
   "metadata": {},
   "source": [
    "**Nettoyage des NaN**"
   ]
  },
  {
   "cell_type": "markdown",
   "metadata": {},
   "source": [
    "**Train**"
   ]
  },
  {
   "cell_type": "code",
   "execution_count": 49,
   "metadata": {},
   "outputs": [
    {
     "name": "stdout",
     "output_type": "stream",
     "text": [
      "TransactionDT         0\n",
      "TransactionAmt        0\n",
      "ProductCD             0\n",
      "card1                 0\n",
      "card2              8933\n",
      "card3              1565\n",
      "card4              1577\n",
      "card5              4259\n",
      "card6              1571\n",
      "addr1             65706\n",
      "dtype: int64\n",
      "% of missing data =  45.283049553515994\n"
     ]
    }
   ],
   "source": [
    "missing_values_count = train.isnull().sum()\n",
    "print (missing_values_count[0:10])\n",
    "total_cells = np.product(train.shape)\n",
    "total_missing = missing_values_count.sum()\n",
    "print (\"% of missing data = \",(total_missing/total_cells) * 100)"
   ]
  },
  {
   "cell_type": "markdown",
   "metadata": {},
   "source": [
    "On peut voir que 45% des données du train sont des valeurs manquantes, nettoyons tout ça !"
   ]
  },
  {
   "cell_type": "code",
   "execution_count": 50,
   "metadata": {},
   "outputs": [
    {
     "data": {
      "text/plain": [
       "NaN    0.887689\n",
       "0.0    0.108211\n",
       "1.0    0.001461\n",
       "3.0    0.001131\n",
       "2.0    0.000713\n",
       "Name: id_03, dtype: float64"
      ]
     },
     "execution_count": 50,
     "metadata": {},
     "output_type": "execute_result"
    }
   ],
   "source": [
    "train['id_03'].value_counts(dropna=False, normalize=True).head()"
   ]
  },
  {
   "cell_type": "markdown",
   "metadata": {},
   "source": [
    " - On supprime les variables qui ont plus de 80% de NA"
   ]
  },
  {
   "cell_type": "code",
   "execution_count": 51,
   "metadata": {},
   "outputs": [],
   "source": [
    "def get_too_many_null_attr(data):\n",
    "    many_null_cols = [col for col in data.columns if data[col].isnull().sum() / data.shape[0] > 0.8]\n",
    "    return many_null_cols"
   ]
  },
  {
   "cell_type": "code",
   "execution_count": 52,
   "metadata": {},
   "outputs": [],
   "source": [
    "null_cols = get_too_many_null_attr(train)\n",
    "train.drop(null_cols,1,inplace=True)"
   ]
  },
  {
   "cell_type": "code",
   "execution_count": 53,
   "metadata": {},
   "outputs": [],
   "source": [
    "def get_too_many_repeated_val(data):\n",
    "    big_top_value_cols = [col for col in train.columns if train[col].value_counts(dropna=False, normalize=True).values[0] > 0.9]\n",
    "    return big_top_value_cols"
   ]
  },
  {
   "cell_type": "markdown",
   "metadata": {},
   "source": [
    "On peut voir que 88% des données sont des NaN, et 10% sont des valeurs nulles. Soit 98% des données sont des valeurs manquantes, donc inutiles !"
   ]
  },
  {
   "cell_type": "markdown",
   "metadata": {},
   "source": [
    "On sépare les variables qualitatives et quantitatives : "
   ]
  },
  {
   "cell_type": "code",
   "execution_count": 54,
   "metadata": {},
   "outputs": [
    {
     "data": {
      "text/html": [
       "<div>\n",
       "<style scoped>\n",
       "    .dataframe tbody tr th:only-of-type {\n",
       "        vertical-align: middle;\n",
       "    }\n",
       "\n",
       "    .dataframe tbody tr th {\n",
       "        vertical-align: top;\n",
       "    }\n",
       "\n",
       "    .dataframe thead th {\n",
       "        text-align: right;\n",
       "    }\n",
       "</style>\n",
       "<table border=\"1\" class=\"dataframe\">\n",
       "  <thead>\n",
       "    <tr style=\"text-align: right;\">\n",
       "      <th></th>\n",
       "      <th>ProductCD</th>\n",
       "      <th>card4</th>\n",
       "      <th>card6</th>\n",
       "      <th>P_emaildomain</th>\n",
       "      <th>R_emaildomain</th>\n",
       "      <th>M1</th>\n",
       "      <th>M2</th>\n",
       "      <th>M3</th>\n",
       "      <th>M4</th>\n",
       "      <th>M5</th>\n",
       "      <th>...</th>\n",
       "      <th>id_16</th>\n",
       "      <th>id_28</th>\n",
       "      <th>id_29</th>\n",
       "      <th>id_31</th>\n",
       "      <th>id_35</th>\n",
       "      <th>id_36</th>\n",
       "      <th>id_37</th>\n",
       "      <th>id_38</th>\n",
       "      <th>DeviceType</th>\n",
       "      <th>DeviceInfo</th>\n",
       "    </tr>\n",
       "  </thead>\n",
       "  <tbody>\n",
       "    <tr>\n",
       "      <th>0</th>\n",
       "      <td>W</td>\n",
       "      <td>discover</td>\n",
       "      <td>credit</td>\n",
       "      <td>NaN</td>\n",
       "      <td>NaN</td>\n",
       "      <td>T</td>\n",
       "      <td>T</td>\n",
       "      <td>T</td>\n",
       "      <td>M2</td>\n",
       "      <td>F</td>\n",
       "      <td>...</td>\n",
       "      <td>NaN</td>\n",
       "      <td>NaN</td>\n",
       "      <td>NaN</td>\n",
       "      <td>NaN</td>\n",
       "      <td>NaN</td>\n",
       "      <td>NaN</td>\n",
       "      <td>NaN</td>\n",
       "      <td>NaN</td>\n",
       "      <td>NaN</td>\n",
       "      <td>NaN</td>\n",
       "    </tr>\n",
       "    <tr>\n",
       "      <th>1</th>\n",
       "      <td>W</td>\n",
       "      <td>mastercard</td>\n",
       "      <td>credit</td>\n",
       "      <td>gmail.com</td>\n",
       "      <td>NaN</td>\n",
       "      <td>NaN</td>\n",
       "      <td>NaN</td>\n",
       "      <td>NaN</td>\n",
       "      <td>M0</td>\n",
       "      <td>T</td>\n",
       "      <td>...</td>\n",
       "      <td>NaN</td>\n",
       "      <td>NaN</td>\n",
       "      <td>NaN</td>\n",
       "      <td>NaN</td>\n",
       "      <td>NaN</td>\n",
       "      <td>NaN</td>\n",
       "      <td>NaN</td>\n",
       "      <td>NaN</td>\n",
       "      <td>NaN</td>\n",
       "      <td>NaN</td>\n",
       "    </tr>\n",
       "    <tr>\n",
       "      <th>2</th>\n",
       "      <td>W</td>\n",
       "      <td>visa</td>\n",
       "      <td>debit</td>\n",
       "      <td>outlook.com</td>\n",
       "      <td>NaN</td>\n",
       "      <td>T</td>\n",
       "      <td>T</td>\n",
       "      <td>T</td>\n",
       "      <td>M0</td>\n",
       "      <td>F</td>\n",
       "      <td>...</td>\n",
       "      <td>NaN</td>\n",
       "      <td>NaN</td>\n",
       "      <td>NaN</td>\n",
       "      <td>NaN</td>\n",
       "      <td>NaN</td>\n",
       "      <td>NaN</td>\n",
       "      <td>NaN</td>\n",
       "      <td>NaN</td>\n",
       "      <td>NaN</td>\n",
       "      <td>NaN</td>\n",
       "    </tr>\n",
       "    <tr>\n",
       "      <th>3</th>\n",
       "      <td>W</td>\n",
       "      <td>mastercard</td>\n",
       "      <td>debit</td>\n",
       "      <td>yahoo.com</td>\n",
       "      <td>NaN</td>\n",
       "      <td>NaN</td>\n",
       "      <td>NaN</td>\n",
       "      <td>NaN</td>\n",
       "      <td>M0</td>\n",
       "      <td>T</td>\n",
       "      <td>...</td>\n",
       "      <td>NaN</td>\n",
       "      <td>NaN</td>\n",
       "      <td>NaN</td>\n",
       "      <td>NaN</td>\n",
       "      <td>NaN</td>\n",
       "      <td>NaN</td>\n",
       "      <td>NaN</td>\n",
       "      <td>NaN</td>\n",
       "      <td>NaN</td>\n",
       "      <td>NaN</td>\n",
       "    </tr>\n",
       "    <tr>\n",
       "      <th>4</th>\n",
       "      <td>H</td>\n",
       "      <td>mastercard</td>\n",
       "      <td>credit</td>\n",
       "      <td>gmail.com</td>\n",
       "      <td>NaN</td>\n",
       "      <td>NaN</td>\n",
       "      <td>NaN</td>\n",
       "      <td>NaN</td>\n",
       "      <td>NaN</td>\n",
       "      <td>NaN</td>\n",
       "      <td>...</td>\n",
       "      <td>NotFound</td>\n",
       "      <td>New</td>\n",
       "      <td>NotFound</td>\n",
       "      <td>samsung browser 6.2</td>\n",
       "      <td>T</td>\n",
       "      <td>F</td>\n",
       "      <td>T</td>\n",
       "      <td>T</td>\n",
       "      <td>mobile</td>\n",
       "      <td>SAMSUNG SM-G892A Build/NRD90M</td>\n",
       "    </tr>\n",
       "  </tbody>\n",
       "</table>\n",
       "<p>5 rows × 26 columns</p>\n",
       "</div>"
      ],
      "text/plain": [
       "  ProductCD       card4   card6 P_emaildomain R_emaildomain   M1   M2   M3  \\\n",
       "0         W    discover  credit           NaN           NaN    T    T    T   \n",
       "1         W  mastercard  credit     gmail.com           NaN  NaN  NaN  NaN   \n",
       "2         W        visa   debit   outlook.com           NaN    T    T    T   \n",
       "3         W  mastercard   debit     yahoo.com           NaN  NaN  NaN  NaN   \n",
       "4         H  mastercard  credit     gmail.com           NaN  NaN  NaN  NaN   \n",
       "\n",
       "    M4   M5  ...     id_16 id_28     id_29                id_31 id_35 id_36  \\\n",
       "0   M2    F  ...       NaN   NaN       NaN                  NaN   NaN   NaN   \n",
       "1   M0    T  ...       NaN   NaN       NaN                  NaN   NaN   NaN   \n",
       "2   M0    F  ...       NaN   NaN       NaN                  NaN   NaN   NaN   \n",
       "3   M0    T  ...       NaN   NaN       NaN                  NaN   NaN   NaN   \n",
       "4  NaN  NaN  ...  NotFound   New  NotFound  samsung browser 6.2     T     F   \n",
       "\n",
       "  id_37 id_38 DeviceType                     DeviceInfo  \n",
       "0   NaN   NaN        NaN                            NaN  \n",
       "1   NaN   NaN        NaN                            NaN  \n",
       "2   NaN   NaN        NaN                            NaN  \n",
       "3   NaN   NaN        NaN                            NaN  \n",
       "4     T     T     mobile  SAMSUNG SM-G892A Build/NRD90M  \n",
       "\n",
       "[5 rows x 26 columns]"
      ]
     },
     "execution_count": 54,
     "metadata": {},
     "output_type": "execute_result"
    }
   ],
   "source": [
    "mask1 = train.dtypes==object\n",
    "categoricalColumns = train.columns[mask1]\n",
    "categoricalFeatures = train[categoricalColumns]\n",
    "categoricalFeatures.head()"
   ]
  },
  {
   "cell_type": "code",
   "execution_count": 55,
   "metadata": {},
   "outputs": [
    {
     "data": {
      "text/html": [
       "<div>\n",
       "<style scoped>\n",
       "    .dataframe tbody tr th:only-of-type {\n",
       "        vertical-align: middle;\n",
       "    }\n",
       "\n",
       "    .dataframe tbody tr th {\n",
       "        vertical-align: top;\n",
       "    }\n",
       "\n",
       "    .dataframe thead th {\n",
       "        text-align: right;\n",
       "    }\n",
       "</style>\n",
       "<table border=\"1\" class=\"dataframe\">\n",
       "  <thead>\n",
       "    <tr style=\"text-align: right;\">\n",
       "      <th></th>\n",
       "      <th>TransactionDT</th>\n",
       "      <th>TransactionAmt</th>\n",
       "      <th>card1</th>\n",
       "      <th>card2</th>\n",
       "      <th>card3</th>\n",
       "      <th>card5</th>\n",
       "      <th>addr1</th>\n",
       "      <th>addr2</th>\n",
       "      <th>dist1</th>\n",
       "      <th>C1</th>\n",
       "      <th>...</th>\n",
       "      <th>V321</th>\n",
       "      <th>id_01</th>\n",
       "      <th>id_02</th>\n",
       "      <th>id_05</th>\n",
       "      <th>id_06</th>\n",
       "      <th>id_11</th>\n",
       "      <th>id_13</th>\n",
       "      <th>id_17</th>\n",
       "      <th>id_19</th>\n",
       "      <th>id_20</th>\n",
       "    </tr>\n",
       "  </thead>\n",
       "  <tbody>\n",
       "    <tr>\n",
       "      <th>0</th>\n",
       "      <td>86400</td>\n",
       "      <td>68.5</td>\n",
       "      <td>13926</td>\n",
       "      <td>NaN</td>\n",
       "      <td>150.0</td>\n",
       "      <td>142.0</td>\n",
       "      <td>315.0</td>\n",
       "      <td>87.0</td>\n",
       "      <td>19.0</td>\n",
       "      <td>1.0</td>\n",
       "      <td>...</td>\n",
       "      <td>0.0</td>\n",
       "      <td>NaN</td>\n",
       "      <td>NaN</td>\n",
       "      <td>NaN</td>\n",
       "      <td>NaN</td>\n",
       "      <td>NaN</td>\n",
       "      <td>NaN</td>\n",
       "      <td>NaN</td>\n",
       "      <td>NaN</td>\n",
       "      <td>NaN</td>\n",
       "    </tr>\n",
       "    <tr>\n",
       "      <th>1</th>\n",
       "      <td>86401</td>\n",
       "      <td>29.0</td>\n",
       "      <td>2755</td>\n",
       "      <td>404.0</td>\n",
       "      <td>150.0</td>\n",
       "      <td>102.0</td>\n",
       "      <td>325.0</td>\n",
       "      <td>87.0</td>\n",
       "      <td>NaN</td>\n",
       "      <td>1.0</td>\n",
       "      <td>...</td>\n",
       "      <td>0.0</td>\n",
       "      <td>NaN</td>\n",
       "      <td>NaN</td>\n",
       "      <td>NaN</td>\n",
       "      <td>NaN</td>\n",
       "      <td>NaN</td>\n",
       "      <td>NaN</td>\n",
       "      <td>NaN</td>\n",
       "      <td>NaN</td>\n",
       "      <td>NaN</td>\n",
       "    </tr>\n",
       "    <tr>\n",
       "      <th>2</th>\n",
       "      <td>86469</td>\n",
       "      <td>59.0</td>\n",
       "      <td>4663</td>\n",
       "      <td>490.0</td>\n",
       "      <td>150.0</td>\n",
       "      <td>166.0</td>\n",
       "      <td>330.0</td>\n",
       "      <td>87.0</td>\n",
       "      <td>287.0</td>\n",
       "      <td>1.0</td>\n",
       "      <td>...</td>\n",
       "      <td>0.0</td>\n",
       "      <td>NaN</td>\n",
       "      <td>NaN</td>\n",
       "      <td>NaN</td>\n",
       "      <td>NaN</td>\n",
       "      <td>NaN</td>\n",
       "      <td>NaN</td>\n",
       "      <td>NaN</td>\n",
       "      <td>NaN</td>\n",
       "      <td>NaN</td>\n",
       "    </tr>\n",
       "    <tr>\n",
       "      <th>3</th>\n",
       "      <td>86499</td>\n",
       "      <td>50.0</td>\n",
       "      <td>18132</td>\n",
       "      <td>567.0</td>\n",
       "      <td>150.0</td>\n",
       "      <td>117.0</td>\n",
       "      <td>476.0</td>\n",
       "      <td>87.0</td>\n",
       "      <td>NaN</td>\n",
       "      <td>2.0</td>\n",
       "      <td>...</td>\n",
       "      <td>0.0</td>\n",
       "      <td>NaN</td>\n",
       "      <td>NaN</td>\n",
       "      <td>NaN</td>\n",
       "      <td>NaN</td>\n",
       "      <td>NaN</td>\n",
       "      <td>NaN</td>\n",
       "      <td>NaN</td>\n",
       "      <td>NaN</td>\n",
       "      <td>NaN</td>\n",
       "    </tr>\n",
       "    <tr>\n",
       "      <th>4</th>\n",
       "      <td>86506</td>\n",
       "      <td>50.0</td>\n",
       "      <td>4497</td>\n",
       "      <td>514.0</td>\n",
       "      <td>150.0</td>\n",
       "      <td>102.0</td>\n",
       "      <td>420.0</td>\n",
       "      <td>87.0</td>\n",
       "      <td>NaN</td>\n",
       "      <td>1.0</td>\n",
       "      <td>...</td>\n",
       "      <td>0.0</td>\n",
       "      <td>0.0</td>\n",
       "      <td>70787.0</td>\n",
       "      <td>NaN</td>\n",
       "      <td>NaN</td>\n",
       "      <td>100.0</td>\n",
       "      <td>NaN</td>\n",
       "      <td>166.0</td>\n",
       "      <td>542.0</td>\n",
       "      <td>144.0</td>\n",
       "    </tr>\n",
       "  </tbody>\n",
       "</table>\n",
       "<p>5 rows × 332 columns</p>\n",
       "</div>"
      ],
      "text/plain": [
       "   TransactionDT  TransactionAmt  card1  card2  card3  card5  addr1  addr2  \\\n",
       "0          86400            68.5  13926    NaN  150.0  142.0  315.0   87.0   \n",
       "1          86401            29.0   2755  404.0  150.0  102.0  325.0   87.0   \n",
       "2          86469            59.0   4663  490.0  150.0  166.0  330.0   87.0   \n",
       "3          86499            50.0  18132  567.0  150.0  117.0  476.0   87.0   \n",
       "4          86506            50.0   4497  514.0  150.0  102.0  420.0   87.0   \n",
       "\n",
       "   dist1   C1  ...  V321  id_01    id_02  id_05  id_06  id_11  id_13  id_17  \\\n",
       "0   19.0  1.0  ...   0.0    NaN      NaN    NaN    NaN    NaN    NaN    NaN   \n",
       "1    NaN  1.0  ...   0.0    NaN      NaN    NaN    NaN    NaN    NaN    NaN   \n",
       "2  287.0  1.0  ...   0.0    NaN      NaN    NaN    NaN    NaN    NaN    NaN   \n",
       "3    NaN  2.0  ...   0.0    NaN      NaN    NaN    NaN    NaN    NaN    NaN   \n",
       "4    NaN  1.0  ...   0.0    0.0  70787.0    NaN    NaN  100.0    NaN  166.0   \n",
       "\n",
       "   id_19  id_20  \n",
       "0    NaN    NaN  \n",
       "1    NaN    NaN  \n",
       "2    NaN    NaN  \n",
       "3    NaN    NaN  \n",
       "4  542.0  144.0  \n",
       "\n",
       "[5 rows x 332 columns]"
      ]
     },
     "execution_count": 55,
     "metadata": {},
     "output_type": "execute_result"
    }
   ],
   "source": [
    "mask2 = train.dtypes!=object\n",
    "numericalColumns = train.columns[mask2]\n",
    "numericalFeatures = train[numericalColumns]\n",
    "numericalFeatures.head()"
   ]
  },
  {
   "cell_type": "markdown",
   "metadata": {},
   "source": [
    "## Corrélations entre les variables numériques"
   ]
  },
  {
   "cell_type": "markdown",
   "metadata": {},
   "source": [
    "On cherche à observer visuellement s'il existe des corrélations entre certaines variables."
   ]
  },
  {
   "cell_type": "code",
   "execution_count": 56,
   "metadata": {},
   "outputs": [
    {
     "data": {
      "image/png": "[encoded data removed]",
      "text/plain": [
       "<Figure size 432x288 with 2 Axes>"
      ]
     },
     "metadata": {},
     "output_type": "display_data"
    },
    {
     "data": {
      "text/html": [
       "<div>\n",
       "<style scoped>\n",
       "    .dataframe tbody tr th:only-of-type {\n",
       "        vertical-align: middle;\n",
       "    }\n",
       "\n",
       "    .dataframe tbody tr th {\n",
       "        vertical-align: top;\n",
       "    }\n",
       "\n",
       "    .dataframe thead th {\n",
       "        text-align: right;\n",
       "    }\n",
       "</style>\n",
       "<table border=\"1\" class=\"dataframe\">\n",
       "  <thead>\n",
       "    <tr style=\"text-align: right;\">\n",
       "      <th></th>\n",
       "      <th>id_01</th>\n",
       "      <th>id_02</th>\n",
       "      <th>id_05</th>\n",
       "      <th>id_06</th>\n",
       "      <th>id_11</th>\n",
       "      <th>id_13</th>\n",
       "      <th>id_17</th>\n",
       "      <th>id_19</th>\n",
       "      <th>id_20</th>\n",
       "    </tr>\n",
       "  </thead>\n",
       "  <tbody>\n",
       "    <tr>\n",
       "      <th>id_01</th>\n",
       "      <td>1.000000</td>\n",
       "      <td>-0.142064</td>\n",
       "      <td>0.009666</td>\n",
       "      <td>0.201637</td>\n",
       "      <td>0.014431</td>\n",
       "      <td>0.088596</td>\n",
       "      <td>-0.180504</td>\n",
       "      <td>0.000519</td>\n",
       "      <td>-0.071238</td>\n",
       "    </tr>\n",
       "    <tr>\n",
       "      <th>id_02</th>\n",
       "      <td>-0.142064</td>\n",
       "      <td>1.000000</td>\n",
       "      <td>-0.101547</td>\n",
       "      <td>-0.047041</td>\n",
       "      <td>0.053744</td>\n",
       "      <td>-0.035814</td>\n",
       "      <td>0.412987</td>\n",
       "      <td>-0.093068</td>\n",
       "      <td>0.108523</td>\n",
       "    </tr>\n",
       "    <tr>\n",
       "      <th>id_05</th>\n",
       "      <td>0.009666</td>\n",
       "      <td>-0.101547</td>\n",
       "      <td>1.000000</td>\n",
       "      <td>-0.291584</td>\n",
       "      <td>-0.043001</td>\n",
       "      <td>-0.036637</td>\n",
       "      <td>-0.203021</td>\n",
       "      <td>-0.023800</td>\n",
       "      <td>-0.058070</td>\n",
       "    </tr>\n",
       "    <tr>\n",
       "      <th>id_06</th>\n",
       "      <td>0.201637</td>\n",
       "      <td>-0.047041</td>\n",
       "      <td>-0.291584</td>\n",
       "      <td>1.000000</td>\n",
       "      <td>0.020806</td>\n",
       "      <td>0.074835</td>\n",
       "      <td>-0.028708</td>\n",
       "      <td>0.029647</td>\n",
       "      <td>-0.071015</td>\n",
       "    </tr>\n",
       "    <tr>\n",
       "      <th>id_11</th>\n",
       "      <td>0.014431</td>\n",
       "      <td>0.053744</td>\n",
       "      <td>-0.043001</td>\n",
       "      <td>0.020806</td>\n",
       "      <td>1.000000</td>\n",
       "      <td>-0.063345</td>\n",
       "      <td>0.062676</td>\n",
       "      <td>0.004058</td>\n",
       "      <td>0.036318</td>\n",
       "    </tr>\n",
       "    <tr>\n",
       "      <th>id_13</th>\n",
       "      <td>0.088596</td>\n",
       "      <td>-0.035814</td>\n",
       "      <td>-0.036637</td>\n",
       "      <td>0.074835</td>\n",
       "      <td>-0.063345</td>\n",
       "      <td>1.000000</td>\n",
       "      <td>-0.075997</td>\n",
       "      <td>0.017657</td>\n",
       "      <td>-0.029427</td>\n",
       "    </tr>\n",
       "    <tr>\n",
       "      <th>id_17</th>\n",
       "      <td>-0.180504</td>\n",
       "      <td>0.412987</td>\n",
       "      <td>-0.203021</td>\n",
       "      <td>-0.028708</td>\n",
       "      <td>0.062676</td>\n",
       "      <td>-0.075997</td>\n",
       "      <td>1.000000</td>\n",
       "      <td>-0.214211</td>\n",
       "      <td>0.278472</td>\n",
       "    </tr>\n",
       "    <tr>\n",
       "      <th>id_19</th>\n",
       "      <td>0.000519</td>\n",
       "      <td>-0.093068</td>\n",
       "      <td>-0.023800</td>\n",
       "      <td>0.029647</td>\n",
       "      <td>0.004058</td>\n",
       "      <td>0.017657</td>\n",
       "      <td>-0.214211</td>\n",
       "      <td>1.000000</td>\n",
       "      <td>-0.088309</td>\n",
       "    </tr>\n",
       "    <tr>\n",
       "      <th>id_20</th>\n",
       "      <td>-0.071238</td>\n",
       "      <td>0.108523</td>\n",
       "      <td>-0.058070</td>\n",
       "      <td>-0.071015</td>\n",
       "      <td>0.036318</td>\n",
       "      <td>-0.029427</td>\n",
       "      <td>0.278472</td>\n",
       "      <td>-0.088309</td>\n",
       "      <td>1.000000</td>\n",
       "    </tr>\n",
       "  </tbody>\n",
       "</table>\n",
       "</div>"
      ],
      "text/plain": [
       "          id_01     id_02     id_05     id_06     id_11     id_13     id_17  \\\n",
       "id_01  1.000000 -0.142064  0.009666  0.201637  0.014431  0.088596 -0.180504   \n",
       "id_02 -0.142064  1.000000 -0.101547 -0.047041  0.053744 -0.035814  0.412987   \n",
       "id_05  0.009666 -0.101547  1.000000 -0.291584 -0.043001 -0.036637 -0.203021   \n",
       "id_06  0.201637 -0.047041 -0.291584  1.000000  0.020806  0.074835 -0.028708   \n",
       "id_11  0.014431  0.053744 -0.043001  0.020806  1.000000 -0.063345  0.062676   \n",
       "id_13  0.088596 -0.035814 -0.036637  0.074835 -0.063345  1.000000 -0.075997   \n",
       "id_17 -0.180504  0.412987 -0.203021 -0.028708  0.062676 -0.075997  1.000000   \n",
       "id_19  0.000519 -0.093068 -0.023800  0.029647  0.004058  0.017657 -0.214211   \n",
       "id_20 -0.071238  0.108523 -0.058070 -0.071015  0.036318 -0.029427  0.278472   \n",
       "\n",
       "          id_19     id_20  \n",
       "id_01  0.000519 -0.071238  \n",
       "id_02 -0.093068  0.108523  \n",
       "id_05 -0.023800 -0.058070  \n",
       "id_06  0.029647 -0.071015  \n",
       "id_11  0.004058  0.036318  \n",
       "id_13  0.017657 -0.029427  \n",
       "id_17 -0.214211  0.278472  \n",
       "id_19  1.000000 -0.088309  \n",
       "id_20 -0.088309  1.000000  "
      ]
     },
     "execution_count": 56,
     "metadata": {},
     "output_type": "execute_result"
    }
   ],
   "source": [
    "correlations = numericalFeatures[['id_01','id_02', 'id_05', 'id_06', 'id_11', 'id_13', 'id_17', 'id_19', 'id_20']].corr()\n",
    "fig = plt.figure()\n",
    "ax = fig.add_subplot(111)\n",
    "cax = ax.matshow(correlations, vmin=-1, vmax=1)\n",
    "fig.colorbar(cax)\n",
    "names = ['']+list(categoricalFeatures)\n",
    "ax.set_xticklabels(names)\n",
    "ax.set_yticklabels(names)\n",
    "plt.show()\n",
    "correlations\n"
   ]
  },
  {
   "cell_type": "code",
   "execution_count": 57,
   "metadata": {},
   "outputs": [
    {
     "data": {
      "image/png": "[encoded data removed]",
      "text/plain": [
       "<Figure size 432x288 with 2 Axes>"
      ]
     },
     "metadata": {},
     "output_type": "display_data"
    },
    {
     "data": {
      "text/html": [
       "<div>\n",
       "<style scoped>\n",
       "    .dataframe tbody tr th:only-of-type {\n",
       "        vertical-align: middle;\n",
       "    }\n",
       "\n",
       "    .dataframe tbody tr th {\n",
       "        vertical-align: top;\n",
       "    }\n",
       "\n",
       "    .dataframe thead th {\n",
       "        text-align: right;\n",
       "    }\n",
       "</style>\n",
       "<table border=\"1\" class=\"dataframe\">\n",
       "  <thead>\n",
       "    <tr style=\"text-align: right;\">\n",
       "      <th></th>\n",
       "      <th>TransactionAmt</th>\n",
       "      <th>TransactionDT</th>\n",
       "      <th>card2</th>\n",
       "      <th>card3</th>\n",
       "      <th>card5</th>\n",
       "    </tr>\n",
       "  </thead>\n",
       "  <tbody>\n",
       "    <tr>\n",
       "      <th>TransactionAmt</th>\n",
       "      <td>1.000000</td>\n",
       "      <td>0.011920</td>\n",
       "      <td>0.016136</td>\n",
       "      <td>-0.109788</td>\n",
       "      <td>0.003061</td>\n",
       "    </tr>\n",
       "    <tr>\n",
       "      <th>TransactionDT</th>\n",
       "      <td>0.011920</td>\n",
       "      <td>1.000000</td>\n",
       "      <td>-0.019202</td>\n",
       "      <td>-0.011222</td>\n",
       "      <td>-0.024132</td>\n",
       "    </tr>\n",
       "    <tr>\n",
       "      <th>card2</th>\n",
       "      <td>0.016136</td>\n",
       "      <td>-0.019202</td>\n",
       "      <td>1.000000</td>\n",
       "      <td>0.023816</td>\n",
       "      <td>0.030486</td>\n",
       "    </tr>\n",
       "    <tr>\n",
       "      <th>card3</th>\n",
       "      <td>-0.109788</td>\n",
       "      <td>-0.011222</td>\n",
       "      <td>0.023816</td>\n",
       "      <td>1.000000</td>\n",
       "      <td>-0.158383</td>\n",
       "    </tr>\n",
       "    <tr>\n",
       "      <th>card5</th>\n",
       "      <td>0.003061</td>\n",
       "      <td>-0.024132</td>\n",
       "      <td>0.030486</td>\n",
       "      <td>-0.158383</td>\n",
       "      <td>1.000000</td>\n",
       "    </tr>\n",
       "  </tbody>\n",
       "</table>\n",
       "</div>"
      ],
      "text/plain": [
       "                TransactionAmt  TransactionDT     card2     card3     card5\n",
       "TransactionAmt        1.000000       0.011920  0.016136 -0.109788  0.003061\n",
       "TransactionDT         0.011920       1.000000 -0.019202 -0.011222 -0.024132\n",
       "card2                 0.016136      -0.019202  1.000000  0.023816  0.030486\n",
       "card3                -0.109788      -0.011222  0.023816  1.000000 -0.158383\n",
       "card5                 0.003061      -0.024132  0.030486 -0.158383  1.000000"
      ]
     },
     "execution_count": 57,
     "metadata": {},
     "output_type": "execute_result"
    }
   ],
   "source": [
    "correlations = numericalFeatures[['TransactionAmt','TransactionDT','card2','card3','card5']].corr()\n",
    "fig = plt.figure()\n",
    "ax = fig.add_subplot(111)\n",
    "cax = ax.matshow(correlations, vmin=-1, vmax=1)\n",
    "fig.colorbar(cax)\n",
    "names = ['']+list(categoricalFeatures)\n",
    "ax.set_xticklabels(names)\n",
    "ax.set_yticklabels(names)\n",
    "plt.show()\n",
    "correlations"
   ]
  },
  {
   "cell_type": "markdown",
   "metadata": {},
   "source": [
    "On remarque qu'il n'y a pas de corrélations flagrante entre ces variables."
   ]
  },
  {
   "cell_type": "markdown",
   "metadata": {},
   "source": [
    " - Normalisation des variables numériques : \n",
    " \n",
    " $\\frac{X - \\mu}{\\sigma}$, avec $\\mu$ : la moyenne de X et $\\sigma$ : l'écart-type de X."
   ]
  },
  {
   "cell_type": "code",
   "execution_count": 58,
   "metadata": {},
   "outputs": [],
   "source": [
    "numericalFeatures = (numericalFeatures-numericalFeatures.mean())/numericalFeatures.std()"
   ]
  },
  {
   "cell_type": "code",
   "execution_count": 59,
   "metadata": {},
   "outputs": [
    {
     "data": {
      "text/html": [
       "<div>\n",
       "<style scoped>\n",
       "    .dataframe tbody tr th:only-of-type {\n",
       "        vertical-align: middle;\n",
       "    }\n",
       "\n",
       "    .dataframe tbody tr th {\n",
       "        vertical-align: top;\n",
       "    }\n",
       "\n",
       "    .dataframe thead th {\n",
       "        text-align: right;\n",
       "    }\n",
       "</style>\n",
       "<table border=\"1\" class=\"dataframe\">\n",
       "  <thead>\n",
       "    <tr style=\"text-align: right;\">\n",
       "      <th></th>\n",
       "      <th>TransactionDT</th>\n",
       "      <th>TransactionAmt</th>\n",
       "      <th>card1</th>\n",
       "      <th>card2</th>\n",
       "      <th>card3</th>\n",
       "      <th>card5</th>\n",
       "      <th>addr1</th>\n",
       "      <th>addr2</th>\n",
       "      <th>dist1</th>\n",
       "      <th>C1</th>\n",
       "      <th>...</th>\n",
       "      <th>V321</th>\n",
       "      <th>id_01</th>\n",
       "      <th>id_02</th>\n",
       "      <th>id_05</th>\n",
       "      <th>id_06</th>\n",
       "      <th>id_11</th>\n",
       "      <th>id_13</th>\n",
       "      <th>id_17</th>\n",
       "      <th>id_19</th>\n",
       "      <th>id_20</th>\n",
       "    </tr>\n",
       "  </thead>\n",
       "  <tbody>\n",
       "    <tr>\n",
       "      <th>0</th>\n",
       "      <td>-1.577985</td>\n",
       "      <td>-0.278076</td>\n",
       "      <td>0.821695</td>\n",
       "      <td>NaN</td>\n",
       "      <td>-0.286621</td>\n",
       "      <td>-1.387695</td>\n",
       "      <td>0.238281</td>\n",
       "      <td>0.069641</td>\n",
       "      <td>-0.267578</td>\n",
       "      <td>-0.097961</td>\n",
       "      <td>...</td>\n",
       "      <td>-0.074143</td>\n",
       "      <td>NaN</td>\n",
       "      <td>NaN</td>\n",
       "      <td>NaN</td>\n",
       "      <td>NaN</td>\n",
       "      <td>NaN</td>\n",
       "      <td>NaN</td>\n",
       "      <td>NaN</td>\n",
       "      <td>NaN</td>\n",
       "      <td>NaN</td>\n",
       "    </tr>\n",
       "    <tr>\n",
       "      <th>1</th>\n",
       "      <td>-1.577985</td>\n",
       "      <td>-0.443359</td>\n",
       "      <td>-1.457557</td>\n",
       "      <td>0.263184</td>\n",
       "      <td>-0.286621</td>\n",
       "      <td>-2.357422</td>\n",
       "      <td>0.336670</td>\n",
       "      <td>0.069641</td>\n",
       "      <td>NaN</td>\n",
       "      <td>-0.097961</td>\n",
       "      <td>...</td>\n",
       "      <td>-0.074143</td>\n",
       "      <td>NaN</td>\n",
       "      <td>NaN</td>\n",
       "      <td>NaN</td>\n",
       "      <td>NaN</td>\n",
       "      <td>NaN</td>\n",
       "      <td>NaN</td>\n",
       "      <td>NaN</td>\n",
       "      <td>NaN</td>\n",
       "      <td>NaN</td>\n",
       "    </tr>\n",
       "    <tr>\n",
       "      <th>2</th>\n",
       "      <td>-1.577970</td>\n",
       "      <td>-0.317871</td>\n",
       "      <td>-1.068262</td>\n",
       "      <td>0.808105</td>\n",
       "      <td>-0.286621</td>\n",
       "      <td>-0.806152</td>\n",
       "      <td>0.385742</td>\n",
       "      <td>0.069641</td>\n",
       "      <td>0.453369</td>\n",
       "      <td>-0.097961</td>\n",
       "      <td>...</td>\n",
       "      <td>-0.074143</td>\n",
       "      <td>NaN</td>\n",
       "      <td>NaN</td>\n",
       "      <td>NaN</td>\n",
       "      <td>NaN</td>\n",
       "      <td>NaN</td>\n",
       "      <td>NaN</td>\n",
       "      <td>NaN</td>\n",
       "      <td>NaN</td>\n",
       "      <td>NaN</td>\n",
       "    </tr>\n",
       "    <tr>\n",
       "      <th>3</th>\n",
       "      <td>-1.577964</td>\n",
       "      <td>-0.355469</td>\n",
       "      <td>1.679857</td>\n",
       "      <td>1.295898</td>\n",
       "      <td>-0.286621</td>\n",
       "      <td>-1.994141</td>\n",
       "      <td>1.820312</td>\n",
       "      <td>0.069641</td>\n",
       "      <td>NaN</td>\n",
       "      <td>-0.090515</td>\n",
       "      <td>...</td>\n",
       "      <td>-0.074143</td>\n",
       "      <td>NaN</td>\n",
       "      <td>NaN</td>\n",
       "      <td>NaN</td>\n",
       "      <td>NaN</td>\n",
       "      <td>NaN</td>\n",
       "      <td>NaN</td>\n",
       "      <td>NaN</td>\n",
       "      <td>NaN</td>\n",
       "      <td>NaN</td>\n",
       "    </tr>\n",
       "    <tr>\n",
       "      <th>4</th>\n",
       "      <td>-1.577962</td>\n",
       "      <td>-0.355469</td>\n",
       "      <td>-1.102132</td>\n",
       "      <td>0.960449</td>\n",
       "      <td>-0.286621</td>\n",
       "      <td>-2.357422</td>\n",
       "      <td>1.270508</td>\n",
       "      <td>0.069641</td>\n",
       "      <td>NaN</td>\n",
       "      <td>-0.097961</td>\n",
       "      <td>...</td>\n",
       "      <td>-0.074143</td>\n",
       "      <td>0.708984</td>\n",
       "      <td>-0.650977</td>\n",
       "      <td>NaN</td>\n",
       "      <td>NaN</td>\n",
       "      <td>0.221802</td>\n",
       "      <td>NaN</td>\n",
       "      <td>-0.773438</td>\n",
       "      <td>1.337891</td>\n",
       "      <td>-1.708984</td>\n",
       "    </tr>\n",
       "  </tbody>\n",
       "</table>\n",
       "<p>5 rows × 332 columns</p>\n",
       "</div>"
      ],
      "text/plain": [
       "   TransactionDT  TransactionAmt     card1     card2     card3     card5  \\\n",
       "0      -1.577985       -0.278076  0.821695       NaN -0.286621 -1.387695   \n",
       "1      -1.577985       -0.443359 -1.457557  0.263184 -0.286621 -2.357422   \n",
       "2      -1.577970       -0.317871 -1.068262  0.808105 -0.286621 -0.806152   \n",
       "3      -1.577964       -0.355469  1.679857  1.295898 -0.286621 -1.994141   \n",
       "4      -1.577962       -0.355469 -1.102132  0.960449 -0.286621 -2.357422   \n",
       "\n",
       "      addr1     addr2     dist1        C1  ...      V321     id_01     id_02  \\\n",
       "0  0.238281  0.069641 -0.267578 -0.097961  ... -0.074143       NaN       NaN   \n",
       "1  0.336670  0.069641       NaN -0.097961  ... -0.074143       NaN       NaN   \n",
       "2  0.385742  0.069641  0.453369 -0.097961  ... -0.074143       NaN       NaN   \n",
       "3  1.820312  0.069641       NaN -0.090515  ... -0.074143       NaN       NaN   \n",
       "4  1.270508  0.069641       NaN -0.097961  ... -0.074143  0.708984 -0.650977   \n",
       "\n",
       "   id_05  id_06     id_11  id_13     id_17     id_19     id_20  \n",
       "0    NaN    NaN       NaN    NaN       NaN       NaN       NaN  \n",
       "1    NaN    NaN       NaN    NaN       NaN       NaN       NaN  \n",
       "2    NaN    NaN       NaN    NaN       NaN       NaN       NaN  \n",
       "3    NaN    NaN       NaN    NaN       NaN       NaN       NaN  \n",
       "4    NaN    NaN  0.221802    NaN -0.773438  1.337891 -1.708984  \n",
       "\n",
       "[5 rows x 332 columns]"
      ]
     },
     "execution_count": 59,
     "metadata": {},
     "output_type": "execute_result"
    }
   ],
   "source": [
    "numericalFeatures.head()"
   ]
  },
  {
   "cell_type": "markdown",
   "metadata": {},
   "source": [
    "Si une variable a la même valeur, la nouvelle valeur après normalisation sera égale à NaN. \n",
    "\n",
    "Ainsi, nous supprimerons les variables qui ont des NaN après la normalisation."
   ]
  },
  {
   "cell_type": "code",
   "execution_count": 60,
   "metadata": {},
   "outputs": [
    {
     "data": {
      "text/plain": [
       "Index(['card2', 'card3', 'card5', 'addr1', 'addr2', 'dist1', 'D1', 'D2', 'D3',\n",
       "       'D4',\n",
       "       ...\n",
       "       'V321', 'id_01', 'id_02', 'id_05', 'id_06', 'id_11', 'id_13', 'id_17',\n",
       "       'id_19', 'id_20'],\n",
       "      dtype='object', length=315)"
      ]
     },
     "execution_count": 60,
     "metadata": {},
     "output_type": "execute_result"
    }
   ],
   "source": [
    "nonNull = numericalFeatures.isnull().sum() != 0\n",
    "columnNonNullScaled = numericalFeatures.columns[nonNull]\n",
    "columnNonNullScaled"
   ]
  },
  {
   "cell_type": "code",
   "execution_count": 61,
   "metadata": {},
   "outputs": [],
   "source": [
    "numericalFeatures = numericalFeatures.drop(columnNonNullScaled, axis = 1)"
   ]
  },
  {
   "cell_type": "code",
   "execution_count": 62,
   "metadata": {},
   "outputs": [
    {
     "data": {
      "text/plain": [
       "Index([], dtype='object')"
      ]
     },
     "execution_count": 62,
     "metadata": {},
     "output_type": "execute_result"
    }
   ],
   "source": [
    "nonNull = numericalFeatures.isnull().sum() != 0\n",
    "columnNonNull = numericalFeatures.columns[nonNull]\n",
    "columnNonNull"
   ]
  },
  {
   "cell_type": "code",
   "execution_count": 63,
   "metadata": {},
   "outputs": [
    {
     "data": {
      "text/plain": [
       "Index(['TransactionDT', 'TransactionAmt', 'card1', 'C1', 'C2', 'C3', 'C4',\n",
       "       'C5', 'C6', 'C7', 'C8', 'C9', 'C10', 'C11', 'C12', 'C13', 'C14'],\n",
       "      dtype='object')"
      ]
     },
     "execution_count": 63,
     "metadata": {},
     "output_type": "execute_result"
    }
   ],
   "source": [
    "numericalFeatures.columns"
   ]
  },
  {
   "cell_type": "markdown",
   "metadata": {},
   "source": [
    "## Pré-traitement de l'échantillon Test"
   ]
  },
  {
   "cell_type": "markdown",
   "metadata": {},
   "source": [
    "Dans un premier temps, on renomme le nom des colonnes de l'ensemble de données de test: on remplace - par _"
   ]
  },
  {
   "cell_type": "code",
   "execution_count": 64,
   "metadata": {},
   "outputs": [],
   "source": [
    "droppedColumnsTest = []\n",
    "for i in test.columns:\n",
    "  a = i.replace('-','_')\n",
    "  droppedColumnsTest.append(a)\n",
    "test.columns = droppedColumnsTest"
   ]
  },
  {
   "cell_type": "markdown",
   "metadata": {},
   "source": [
    " - Extraction des variables numériques et qualitatives"
   ]
  },
  {
   "cell_type": "code",
   "execution_count": 65,
   "metadata": {},
   "outputs": [],
   "source": [
    "X_testCategorical = test[categoricalFeatures.columns]"
   ]
  },
  {
   "cell_type": "code",
   "execution_count": 66,
   "metadata": {},
   "outputs": [],
   "source": [
    "X_testNumerical  = test[numericalFeatures.columns]"
   ]
  },
  {
   "cell_type": "markdown",
   "metadata": {},
   "source": [
    " - Suppression des variables contenant plus de 80% de valeurs manquantes"
   ]
  },
  {
   "cell_type": "code",
   "execution_count": 67,
   "metadata": {},
   "outputs": [],
   "source": [
    "null_cols = get_too_many_null_attr(X_testNumerical)\n",
    "X_testNumerical.drop(null_cols,1,inplace=True)"
   ]
  },
  {
   "cell_type": "markdown",
   "metadata": {},
   "source": [
    "On vérifie si les variables catégorielles du train et du test ont le même nombre de valeurs uniques avant l'encodage"
   ]
  },
  {
   "cell_type": "code",
   "execution_count": 68,
   "metadata": {},
   "outputs": [
    {
     "data": {
      "text/html": [
       "<div>\n",
       "<style scoped>\n",
       "    .dataframe tbody tr th:only-of-type {\n",
       "        vertical-align: middle;\n",
       "    }\n",
       "\n",
       "    .dataframe tbody tr th {\n",
       "        vertical-align: top;\n",
       "    }\n",
       "\n",
       "    .dataframe thead th {\n",
       "        text-align: right;\n",
       "    }\n",
       "</style>\n",
       "<table border=\"1\" class=\"dataframe\">\n",
       "  <thead>\n",
       "    <tr style=\"text-align: right;\">\n",
       "      <th></th>\n",
       "      <th>ProductCD</th>\n",
       "      <th>card4</th>\n",
       "      <th>card6</th>\n",
       "      <th>P_emaildomain</th>\n",
       "      <th>R_emaildomain</th>\n",
       "      <th>M1</th>\n",
       "      <th>M2</th>\n",
       "      <th>M3</th>\n",
       "      <th>M4</th>\n",
       "      <th>M5</th>\n",
       "      <th>...</th>\n",
       "      <th>id_16</th>\n",
       "      <th>id_28</th>\n",
       "      <th>id_29</th>\n",
       "      <th>id_31</th>\n",
       "      <th>id_35</th>\n",
       "      <th>id_36</th>\n",
       "      <th>id_37</th>\n",
       "      <th>id_38</th>\n",
       "      <th>DeviceType</th>\n",
       "      <th>DeviceInfo</th>\n",
       "    </tr>\n",
       "  </thead>\n",
       "  <tbody>\n",
       "    <tr>\n",
       "      <th>count</th>\n",
       "      <td>590540</td>\n",
       "      <td>588963</td>\n",
       "      <td>588969</td>\n",
       "      <td>496084</td>\n",
       "      <td>137291</td>\n",
       "      <td>319440</td>\n",
       "      <td>319440</td>\n",
       "      <td>319440</td>\n",
       "      <td>309096</td>\n",
       "      <td>240058</td>\n",
       "      <td>...</td>\n",
       "      <td>129340</td>\n",
       "      <td>140978</td>\n",
       "      <td>140978</td>\n",
       "      <td>140282</td>\n",
       "      <td>140985</td>\n",
       "      <td>140985</td>\n",
       "      <td>140985</td>\n",
       "      <td>140985</td>\n",
       "      <td>140810</td>\n",
       "      <td>118666</td>\n",
       "    </tr>\n",
       "    <tr>\n",
       "      <th>unique</th>\n",
       "      <td>5</td>\n",
       "      <td>4</td>\n",
       "      <td>4</td>\n",
       "      <td>59</td>\n",
       "      <td>60</td>\n",
       "      <td>2</td>\n",
       "      <td>2</td>\n",
       "      <td>2</td>\n",
       "      <td>3</td>\n",
       "      <td>2</td>\n",
       "      <td>...</td>\n",
       "      <td>2</td>\n",
       "      <td>2</td>\n",
       "      <td>2</td>\n",
       "      <td>130</td>\n",
       "      <td>2</td>\n",
       "      <td>2</td>\n",
       "      <td>2</td>\n",
       "      <td>2</td>\n",
       "      <td>2</td>\n",
       "      <td>1786</td>\n",
       "    </tr>\n",
       "    <tr>\n",
       "      <th>top</th>\n",
       "      <td>W</td>\n",
       "      <td>visa</td>\n",
       "      <td>debit</td>\n",
       "      <td>gmail.com</td>\n",
       "      <td>gmail.com</td>\n",
       "      <td>T</td>\n",
       "      <td>T</td>\n",
       "      <td>T</td>\n",
       "      <td>M0</td>\n",
       "      <td>F</td>\n",
       "      <td>...</td>\n",
       "      <td>Found</td>\n",
       "      <td>Found</td>\n",
       "      <td>Found</td>\n",
       "      <td>chrome 63.0</td>\n",
       "      <td>T</td>\n",
       "      <td>F</td>\n",
       "      <td>T</td>\n",
       "      <td>F</td>\n",
       "      <td>desktop</td>\n",
       "      <td>Windows</td>\n",
       "    </tr>\n",
       "    <tr>\n",
       "      <th>freq</th>\n",
       "      <td>439670</td>\n",
       "      <td>384767</td>\n",
       "      <td>439938</td>\n",
       "      <td>228355</td>\n",
       "      <td>57147</td>\n",
       "      <td>319415</td>\n",
       "      <td>285468</td>\n",
       "      <td>251731</td>\n",
       "      <td>196405</td>\n",
       "      <td>132491</td>\n",
       "      <td>...</td>\n",
       "      <td>66324</td>\n",
       "      <td>76232</td>\n",
       "      <td>74926</td>\n",
       "      <td>22000</td>\n",
       "      <td>77814</td>\n",
       "      <td>134066</td>\n",
       "      <td>110452</td>\n",
       "      <td>73922</td>\n",
       "      <td>85165</td>\n",
       "      <td>47722</td>\n",
       "    </tr>\n",
       "  </tbody>\n",
       "</table>\n",
       "<p>4 rows × 26 columns</p>\n",
       "</div>"
      ],
      "text/plain": [
       "       ProductCD   card4   card6 P_emaildomain R_emaildomain      M1      M2  \\\n",
       "count     590540  588963  588969        496084        137291  319440  319440   \n",
       "unique         5       4       4            59            60       2       2   \n",
       "top            W    visa   debit     gmail.com     gmail.com       T       T   \n",
       "freq      439670  384767  439938        228355         57147  319415  285468   \n",
       "\n",
       "            M3      M4      M5  ...   id_16   id_28   id_29        id_31  \\\n",
       "count   319440  309096  240058  ...  129340  140978  140978       140282   \n",
       "unique       2       3       2  ...       2       2       2          130   \n",
       "top          T      M0       F  ...   Found   Found   Found  chrome 63.0   \n",
       "freq    251731  196405  132491  ...   66324   76232   74926        22000   \n",
       "\n",
       "         id_35   id_36   id_37   id_38 DeviceType DeviceInfo  \n",
       "count   140985  140985  140985  140985     140810     118666  \n",
       "unique       2       2       2       2          2       1786  \n",
       "top          T       F       T       F    desktop    Windows  \n",
       "freq     77814  134066  110452   73922      85165      47722  \n",
       "\n",
       "[4 rows x 26 columns]"
      ]
     },
     "execution_count": 68,
     "metadata": {},
     "output_type": "execute_result"
    }
   ],
   "source": [
    "categoricalFeatures.describe()"
   ]
  },
  {
   "cell_type": "code",
   "execution_count": 69,
   "metadata": {},
   "outputs": [
    {
     "data": {
      "text/html": [
       "<div>\n",
       "<style scoped>\n",
       "    .dataframe tbody tr th:only-of-type {\n",
       "        vertical-align: middle;\n",
       "    }\n",
       "\n",
       "    .dataframe tbody tr th {\n",
       "        vertical-align: top;\n",
       "    }\n",
       "\n",
       "    .dataframe thead th {\n",
       "        text-align: right;\n",
       "    }\n",
       "</style>\n",
       "<table border=\"1\" class=\"dataframe\">\n",
       "  <thead>\n",
       "    <tr style=\"text-align: right;\">\n",
       "      <th></th>\n",
       "      <th>ProductCD</th>\n",
       "      <th>card4</th>\n",
       "      <th>card6</th>\n",
       "      <th>P_emaildomain</th>\n",
       "      <th>R_emaildomain</th>\n",
       "      <th>M1</th>\n",
       "      <th>M2</th>\n",
       "      <th>M3</th>\n",
       "      <th>M4</th>\n",
       "      <th>M5</th>\n",
       "      <th>...</th>\n",
       "      <th>id_16</th>\n",
       "      <th>id_28</th>\n",
       "      <th>id_29</th>\n",
       "      <th>id_31</th>\n",
       "      <th>id_35</th>\n",
       "      <th>id_36</th>\n",
       "      <th>id_37</th>\n",
       "      <th>id_38</th>\n",
       "      <th>DeviceType</th>\n",
       "      <th>DeviceInfo</th>\n",
       "    </tr>\n",
       "  </thead>\n",
       "  <tbody>\n",
       "    <tr>\n",
       "      <th>count</th>\n",
       "      <td>506691</td>\n",
       "      <td>503605</td>\n",
       "      <td>503684</td>\n",
       "      <td>437499</td>\n",
       "      <td>135870</td>\n",
       "      <td>330052</td>\n",
       "      <td>330052</td>\n",
       "      <td>330052</td>\n",
       "      <td>268946</td>\n",
       "      <td>197059</td>\n",
       "      <td>...</td>\n",
       "      <td>125747</td>\n",
       "      <td>136778</td>\n",
       "      <td>136778</td>\n",
       "      <td>136625</td>\n",
       "      <td>136977</td>\n",
       "      <td>136977</td>\n",
       "      <td>136977</td>\n",
       "      <td>136977</td>\n",
       "      <td>136931</td>\n",
       "      <td>115057</td>\n",
       "    </tr>\n",
       "    <tr>\n",
       "      <th>unique</th>\n",
       "      <td>5</td>\n",
       "      <td>4</td>\n",
       "      <td>3</td>\n",
       "      <td>60</td>\n",
       "      <td>60</td>\n",
       "      <td>2</td>\n",
       "      <td>2</td>\n",
       "      <td>2</td>\n",
       "      <td>3</td>\n",
       "      <td>2</td>\n",
       "      <td>...</td>\n",
       "      <td>2</td>\n",
       "      <td>2</td>\n",
       "      <td>2</td>\n",
       "      <td>135</td>\n",
       "      <td>2</td>\n",
       "      <td>2</td>\n",
       "      <td>2</td>\n",
       "      <td>2</td>\n",
       "      <td>2</td>\n",
       "      <td>2226</td>\n",
       "    </tr>\n",
       "    <tr>\n",
       "      <th>top</th>\n",
       "      <td>W</td>\n",
       "      <td>visa</td>\n",
       "      <td>debit</td>\n",
       "      <td>gmail.com</td>\n",
       "      <td>gmail.com</td>\n",
       "      <td>T</td>\n",
       "      <td>T</td>\n",
       "      <td>T</td>\n",
       "      <td>M0</td>\n",
       "      <td>F</td>\n",
       "      <td>...</td>\n",
       "      <td>Found</td>\n",
       "      <td>Found</td>\n",
       "      <td>Found</td>\n",
       "      <td>chrome 70.0</td>\n",
       "      <td>T</td>\n",
       "      <td>F</td>\n",
       "      <td>T</td>\n",
       "      <td>F</td>\n",
       "      <td>desktop</td>\n",
       "      <td>Windows</td>\n",
       "    </tr>\n",
       "    <tr>\n",
       "      <th>freq</th>\n",
       "      <td>360987</td>\n",
       "      <td>334882</td>\n",
       "      <td>385021</td>\n",
       "      <td>207448</td>\n",
       "      <td>61738</td>\n",
       "      <td>330021</td>\n",
       "      <td>302855</td>\n",
       "      <td>266513</td>\n",
       "      <td>161384</td>\n",
       "      <td>107664</td>\n",
       "      <td>...</td>\n",
       "      <td>66481</td>\n",
       "      <td>75581</td>\n",
       "      <td>74338</td>\n",
       "      <td>16054</td>\n",
       "      <td>71650</td>\n",
       "      <td>133287</td>\n",
       "      <td>104697</td>\n",
       "      <td>95058</td>\n",
       "      <td>74403</td>\n",
       "      <td>44988</td>\n",
       "    </tr>\n",
       "  </tbody>\n",
       "</table>\n",
       "<p>4 rows × 26 columns</p>\n",
       "</div>"
      ],
      "text/plain": [
       "       ProductCD   card4   card6 P_emaildomain R_emaildomain      M1      M2  \\\n",
       "count     506691  503605  503684        437499        135870  330052  330052   \n",
       "unique         5       4       3            60            60       2       2   \n",
       "top            W    visa   debit     gmail.com     gmail.com       T       T   \n",
       "freq      360987  334882  385021        207448         61738  330021  302855   \n",
       "\n",
       "            M3      M4      M5  ...   id_16   id_28   id_29        id_31  \\\n",
       "count   330052  268946  197059  ...  125747  136778  136778       136625   \n",
       "unique       2       3       2  ...       2       2       2          135   \n",
       "top          T      M0       F  ...   Found   Found   Found  chrome 70.0   \n",
       "freq    266513  161384  107664  ...   66481   75581   74338        16054   \n",
       "\n",
       "         id_35   id_36   id_37   id_38 DeviceType DeviceInfo  \n",
       "count   136977  136977  136977  136977     136931     115057  \n",
       "unique       2       2       2       2          2       2226  \n",
       "top          T       F       T       F    desktop    Windows  \n",
       "freq     71650  133287  104697   95058      74403      44988  \n",
       "\n",
       "[4 rows x 26 columns]"
      ]
     },
     "execution_count": 69,
     "metadata": {},
     "output_type": "execute_result"
    }
   ],
   "source": [
    "X_testCategorical.describe()"
   ]
  },
  {
   "cell_type": "markdown",
   "metadata": {},
   "source": [
    "On remarque que certaines variables catégorielles ont une valeur unique différente dans le train et dans le test. \n",
    "\n",
    "Cela conduira à différentes formes du train et du test. On a alors décidé de supprimer ces variables."
   ]
  },
  {
   "cell_type": "markdown",
   "metadata": {},
   "source": [
    "Suppression des variables catégorielles ayant des valeurs uniques différentes dans le train et le test, avant l'encodage"
   ]
  },
  {
   "cell_type": "code",
   "execution_count": 70,
   "metadata": {},
   "outputs": [
    {
     "data": {
      "text/plain": [
       "['card6', 'P_emaildomain', 'id_31', 'DeviceInfo']"
      ]
     },
     "execution_count": 70,
     "metadata": {},
     "output_type": "execute_result"
    }
   ],
   "source": [
    "A = []\n",
    "for i in X_testCategorical.columns:\n",
    "  if len(X_testCategorical[i].value_counts()) != len(categoricalFeatures[i].value_counts()):\n",
    "    A.append(i)\n",
    "A"
   ]
  },
  {
   "cell_type": "markdown",
   "metadata": {},
   "source": []
  },
  {
   "cell_type": "code",
   "execution_count": 71,
   "metadata": {},
   "outputs": [],
   "source": [
    "categoricalFeatures = categoricalFeatures.drop(A, axis = 1)\n",
    "X_testCategorical = X_testCategorical.drop(A, axis = 1)"
   ]
  },
  {
   "cell_type": "markdown",
   "metadata": {},
   "source": [
    "## Les chaînes de caractères : one hot encoder"
   ]
  },
  {
   "cell_type": "markdown",
   "metadata": {},
   "source": [
    "Pour pourvoir utiliser les variables contenant des chaînes de caractères, on utilise la méthode de one hot encoder qui consiste à créer des nouvelles colonnes correspondant à chaque valeur que peut prendre les variables qualitatives, puis inscrire la valeur 1 si un individu a pour valeur de variable le nom de la colonne, 0 sinon.\n",
    "\n",
    "En effet, nous n'utiliserons pas la méthode de label encoder consistant à remplacer les valeurs des variables qualitatives par des chiffres car cela impliquerait qu'il y aurait des relations de supériorité entre les valeurs qualitatives.\n",
    "\n",
    "On utilise la méthode _get_dummies_ pour coder les variables catégorielles du train et du test"
   ]
  },
  {
   "cell_type": "code",
   "execution_count": 72,
   "metadata": {},
   "outputs": [],
   "source": [
    "def encodingTrain():\n",
    "  x = pd.get_dummies(categoricalFeatures, columns= categoricalFeatures.columns)\n",
    "  return x.join(numericalFeatures) "
   ]
  },
  {
   "cell_type": "code",
   "execution_count": 73,
   "metadata": {},
   "outputs": [],
   "source": [
    "X_trainEncoded = encodingTrain()"
   ]
  },
  {
   "cell_type": "code",
   "execution_count": 75,
   "metadata": {},
   "outputs": [],
   "source": [
    "def encodingTest():\n",
    "  x = pd.get_dummies(X_testCategorical, columns= X_testCategorical.columns) \n",
    "  return x.join(X_testNumerical)"
   ]
  },
  {
   "cell_type": "code",
   "execution_count": 76,
   "metadata": {},
   "outputs": [],
   "source": [
    "X_testEncoded = encodingTest()"
   ]
  },
  {
   "cell_type": "markdown",
   "metadata": {},
   "source": [
    "On vérifie la forme des ensembles du train et du test après l'encodage"
   ]
  },
  {
   "cell_type": "code",
   "execution_count": 77,
   "metadata": {},
   "outputs": [
    {
     "data": {
      "text/plain": [
       "((590540, 126), (506691, 126), (590540,))"
      ]
     },
     "execution_count": 77,
     "metadata": {},
     "output_type": "execute_result"
    }
   ],
   "source": [
    "X_trainEncoded.shape, X_testEncoded.shape, y_train.shape"
   ]
  },
  {
   "cell_type": "markdown",
   "metadata": {},
   "source": [
    "On vérifie si y a pas de NAN dans le train et le test après l'encodage"
   ]
  },
  {
   "cell_type": "code",
   "execution_count": 78,
   "metadata": {},
   "outputs": [
    {
     "data": {
      "text/plain": [
       "Index([], dtype='object')"
      ]
     },
     "execution_count": 78,
     "metadata": {},
     "output_type": "execute_result"
    }
   ],
   "source": [
    "nonNull = X_trainEncoded.isnull().sum() != 0\n",
    "columnNonNull = X_trainEncoded.columns[nonNull]\n",
    "columnNonNull"
   ]
  },
  {
   "cell_type": "code",
   "execution_count": 79,
   "metadata": {},
   "outputs": [
    {
     "data": {
      "text/plain": [
       "Index(['C1', 'C2', 'C3', 'C4', 'C5', 'C6', 'C7', 'C8', 'C9', 'C10', 'C11',\n",
       "       'C12', 'C13', 'C14'],\n",
       "      dtype='object')"
      ]
     },
     "execution_count": 79,
     "metadata": {},
     "output_type": "execute_result"
    }
   ],
   "source": [
    "nonNull = X_testEncoded.isnull().sum() != 0\n",
    "columnNonNull = X_testEncoded.columns[nonNull]\n",
    "columnNonNull"
   ]
  },
  {
   "cell_type": "markdown",
   "metadata": {},
   "source": [
    "On vérifie si le nom des colonnes dans le train et le test est le même"
   ]
  },
  {
   "cell_type": "code",
   "execution_count": 80,
   "metadata": {},
   "outputs": [
    {
     "data": {
      "text/plain": [
       "True"
      ]
     },
     "execution_count": 80,
     "metadata": {},
     "output_type": "execute_result"
    }
   ],
   "source": [
    "A = X_trainEncoded.columns == X_testEncoded.columns\n",
    "A.sum() == len(X_trainEncoded.columns)"
   ]
  },
  {
   "cell_type": "markdown",
   "metadata": {},
   "source": [
    "Le nom des colonnes dans le train et dans le test est le même. \n",
    "\n",
    "Maintenant, on va construire le modèle qui peut éviter le surapprentissage car on a beaucoup de variables."
   ]
  },
  {
   "cell_type": "markdown",
   "metadata": {},
   "source": [
    "# Prédiction de la probabilité du nombre de fraudes"
   ]
  },
  {
   "cell_type": "code",
   "execution_count": 81,
   "metadata": {},
   "outputs": [],
   "source": [
    "Y = y_train \n",
    "X = X_trainEncoded"
   ]
  },
  {
   "cell_type": "markdown",
   "metadata": {},
   "source": [
    "#### Split nos données en train(67%) et test(33%)"
   ]
  },
  {
   "cell_type": "code",
   "execution_count": 82,
   "metadata": {},
   "outputs": [],
   "source": [
    "X_train, X_test, y_train, y_test = train_test_split(X, Y, test_size=0.33, random_state=42)"
   ]
  },
  {
   "cell_type": "markdown",
   "metadata": {},
   "source": [
    "## Naive Bayes"
   ]
  },
  {
   "cell_type": "markdown",
   "metadata": {},
   "source": [
    "Dans un premier temps, nous avons appliqué le classifier Naive Bayes.\n",
    "Son utilisation ne nécessite pas l'ajustement des hyperparamètres.\n",
    "\n",
    "La classification naïve bayésienne est un type de classification bayésienne probabiliste simple basée sur le théorème de Bayes avec une forte indépendance des hypothèses.\n",
    "\n",
    "Avantages et inconvénients de Naive Bayes:\n",
    "\n",
    "Avantages\n",
    "\n",
    " - C’est relativement simple à comprendre et à construire\n",
    " - Il est facile à former, même avec un petit jeu de données\n",
    " - C’est rapide!\n",
    " - Il n’est pas sensible aux caractéristiques non pertinentes\n",
    "\n",
    "Désavantages\n",
    "\n",
    " - Il implique que chaque fonctionnalité soit indépendante, ce qui n’est pas toujours le cas.\n",
    "\n",
    "Les classificateurs de Naïve Bayes sont une famille d’algorithmes reposant sur le principe commun selon lequel la valeur d’une fonctionnalité spécifique est indépendante de la valeur de toute autre fonctionnalité. Ils nous permettent de prédire la probabilité qu’un événement se produise en fonction de conditions que nous connaissons pour les événements en question. "
   ]
  },
  {
   "cell_type": "code",
   "execution_count": 123,
   "metadata": {},
   "outputs": [
    {
     "name": "stdout",
     "output_type": "stream",
     "text": [
      "0.5217455403213918\n"
     ]
    }
   ],
   "source": [
    "from sklearn.naive_bayes import GaussianNB\n",
    "gnb = GaussianNB()\n",
    "gnb.fit(X_train, y_train)\n",
    "print(roc_auc_score(y_test,gnb.predict_proba(X_test)[:,1] ))"
   ]
  },
  {
   "cell_type": "markdown",
   "metadata": {},
   "source": [
    "## Knn"
   ]
  },
  {
   "cell_type": "code",
   "execution_count": 138,
   "metadata": {},
   "outputs": [],
   "source": [
    "knn = KNeighborsClassifier()\n",
    "# on crée un dictionnaire pour les nombres de voisins n_neighbors que l'on veut tester \n",
    "param_grid = {'n_neighbors': np.arange(1, 5)}\n",
    "\n",
    "#on utilise gridsearch pour tester toutes les valeurs de n_neighbors\n",
    "knn_gscv = GridSearchCV(knn, param_grid, cv=5)\n",
    "\n",
    "#on fit le modèle\n",
    "knn_best = knn_gscv.fit(X_train, y_train)"
   ]
  },
  {
   "cell_type": "code",
   "execution_count": 139,
   "metadata": {},
   "outputs": [
    {
     "data": {
      "text/plain": [
       "{'n_neighbors': 2}"
      ]
     },
     "execution_count": 139,
     "metadata": {},
     "output_type": "execute_result"
    }
   ],
   "source": [
    "# la meilleure valeur de n_neighbors vaut 2\n",
    "knn_gscv.best_params_"
   ]
  },
  {
   "cell_type": "code",
   "execution_count": 140,
   "metadata": {},
   "outputs": [
    {
     "data": {
      "text/plain": [
       "0.9805970149253731"
      ]
     },
     "execution_count": 140,
     "metadata": {},
     "output_type": "execute_result"
    }
   ],
   "source": [
    "#la moyenne des score pour cette valeur de n_neighbors \n",
    "knn_gscv.best_score_\n"
   ]
  },
  {
   "cell_type": "markdown",
   "metadata": {},
   "source": [
    "Pour cette valeur du nombre de voisins, l'accuracy sur le train est de 0.98"
   ]
  },
  {
   "cell_type": "code",
   "execution_count": 141,
   "metadata": {},
   "outputs": [
    {
     "data": {
      "text/plain": [
       "0.5"
      ]
     },
     "execution_count": 141,
     "metadata": {},
     "output_type": "execute_result"
    }
   ],
   "source": [
    "pred= knn_best.predict(X_test)\n",
    "roc_auc_score(y_test, pred)"
   ]
  },
  {
   "cell_type": "markdown",
   "metadata": {},
   "source": [
    "Pour ce modèle on trouve alors une valeur d'AUC de "
   ]
  },
  {
   "cell_type": "markdown",
   "metadata": {},
   "source": [
    "## Régression logistique"
   ]
  },
  {
   "cell_type": "code",
   "execution_count": 83,
   "metadata": {},
   "outputs": [],
   "source": [
    "def temps(second):\n",
    "    m, s = divmod(second, 60)\n",
    "    h, m = divmod(m, 60)\n",
    "    print(\"temps :\",'{:02.0f}:{:02.0f}:{:02.0f}'.format(h, m, s))"
   ]
  },
  {
   "cell_type": "markdown",
   "metadata": {},
   "source": [
    "### Regression logistique avec toutes nos variables "
   ]
  },
  {
   "cell_type": "code",
   "execution_count": null,
   "metadata": {},
   "outputs": [],
   "source": [
    "tstart = time.time()\n",
    "log = LogisticRegression(random_state=0).fit(X_train, y_train)\n",
    "pred_train = log.predict_proba(X_train)\n",
    "print(\"score auc train :\",roc_auc_score(y_train, pred_train[:, 1]))\n",
    "tend = time.time()\n",
    "temps(tend-tstart)"
   ]
  },
  {
   "cell_type": "code",
   "execution_count": null,
   "metadata": {},
   "outputs": [],
   "source": [
    "tstart = time.time()\n",
    "pred = log.predict_proba(X_test)\n",
    "print(\"score auc test :\",roc_auc_score(y_test, pred[:, 1]))\n",
    "tend = time.time()\n",
    "temps(tend-tstart)"
   ]
  },
  {
   "cell_type": "markdown",
   "metadata": {},
   "source": [
    "## Regression logistique avec cross validation"
   ]
  },
  {
   "cell_type": "markdown",
   "metadata": {},
   "source": [
    "### cross validation sur toutes nos données"
   ]
  },
  {
   "cell_type": "code",
   "execution_count": null,
   "metadata": {},
   "outputs": [],
   "source": [
    "tstart = time.time()\n",
    "clf = LogisticRegression(random_state=0)\n",
    "scores = cross_val_score(clf, X, Y, cv=5,scoring='roc_auc')\n",
    "print(\"score auc :\",scores)\n",
    "tend = time.time()\n",
    "temps(tend-tstart)"
   ]
  },
  {
   "cell_type": "markdown",
   "metadata": {},
   "source": [
    "On peut constater que l'on obtient un auc de 0.827 qui est le plus élevé obtenu jusqu'à présent"
   ]
  },
  {
   "cell_type": "code",
   "execution_count": null,
   "metadata": {},
   "outputs": [],
   "source": [
    "tstart = time.time()\n",
    "clf = LogisticRegression(solver ='liblinear', penalty = 'l1', random_state=0)\n",
    "scores_sample = cross_val_score(clf, X, Y, cv=5,scoring='roc_auc')\n",
    "print(\"score auc :\",scores_sample)\n",
    "tend = time.time()\n",
    "temps(tend-tstart)"
   ]
  },
  {
   "cell_type": "markdown",
   "metadata": {},
   "source": [
    "Les auc obtenu avec une penalty l1 sont bien meilleurs que ceux obtenus prédédement. Le temps de d'exécution est en revanche bien plus grand avec cette méthodes."
   ]
  },
  {
   "cell_type": "markdown",
   "metadata": {},
   "source": [
    "## Cross validation pour le paramètre Inverse of regularization strength"
   ]
  },
  {
   "cell_type": "code",
   "execution_count": null,
   "metadata": {},
   "outputs": [],
   "source": [
    "pred = []\n",
    "tstart = time.time()\n",
    "t = np.arange(0.1,1.1,0.1)\n",
    "for i in t:\n",
    "    if(i%2==0): print(i)\n",
    "    log = LogisticRegression(solver ='liblinear', penalty = 'l1', C=i, random_state=0).fit(X_train, y_train)\n",
    "    pred_train = log.predict_proba(X_test)\n",
    "    pred.append(roc_auc_score(y_test, pred_train[:, 1]))\n",
    "tend = time.time()\n",
    "temps(tend-tstart)\n",
    "\n",
    "plt.plot(t,pred)"
   ]
  },
  {
   "cell_type": "code",
   "execution_count": null,
   "metadata": {},
   "outputs": [],
   "source": [
    "print(\"Pour C = \",t[np.argmax(pred)], \" ,auc = \",np.max(pred))"
   ]
  },
  {
   "cell_type": "code",
   "execution_count": null,
   "metadata": {},
   "outputs": [],
   "source": [
    "pred = []\n",
    "tstart = time.time()\n",
    "t = np.arange(0.01,0.11,0.01)\n",
    "for i in t:\n",
    "    if((i*10)%2==0): print(i)\n",
    "    log = LogisticRegression(solver ='liblinear', penalty = 'l1', C=i, random_state=0).fit(X_train, y_train)\n",
    "    pred_train = log.predict_proba(X_test)\n",
    "    pred.append(roc_auc_score(y_test, pred_train[:, 1]))\n",
    "tend = time.time()\n",
    "temps(tend-tstart)\n",
    "\n",
    "plt.plot(t,pred)"
   ]
  },
  {
   "cell_type": "code",
   "execution_count": null,
   "metadata": {},
   "outputs": [],
   "source": [
    "print(\"Pour C = \",t[np.argmax(pred)], \" ,auc = \",np.max(pred))"
   ]
  },
  {
   "cell_type": "code",
   "execution_count": null,
   "metadata": {},
   "outputs": [],
   "source": [
    "tstart = time.time()\n",
    "clf = LogisticRegression(solver ='liblinear', C=0.03, penalty = 'l1', random_state=0)\n",
    "scores_sub_sc = cross_val_score(clf, X, Y, cv=5,scoring='roc_auc')\n",
    "print(\"score auc :\",scores_sub_sc)\n",
    "tend = time.time()\n",
    "temps(tend-tstart)"
   ]
  },
  {
   "cell_type": "code",
   "execution_count": null,
   "metadata": {},
   "outputs": [],
   "source": [
    "pred = []\n",
    "tstart = time.time()\n",
    "t = np.arange(0,1.1,0.1)\n",
    "for i in t:\n",
    "    if((i*10)%2==0): print(i)\n",
    "    log = LogisticRegression(solver ='saga', penalty = 'elasticnet', random_state=0, l1_ratio=i).fit(X_train, y_train)\n",
    "    pred_train = log.predict_proba(X_test)\n",
    "    pred.append(roc_auc_score(y_test, pred_train[:, 1]))\n",
    "tend = time.time()\n",
    "temps(tend-tstart)"
   ]
  },
  {
   "cell_type": "code",
   "execution_count": null,
   "metadata": {},
   "outputs": [],
   "source": [
    "plt.plot(t,pred)"
   ]
  },
  {
   "cell_type": "markdown",
   "metadata": {},
   "source": [
    "On essaie de melanger les données (toutes les données non fraude sont en haut et fraude en bas du DataFrame)\n"
   ]
  },
  {
   "cell_type": "code",
   "execution_count": null,
   "metadata": {},
   "outputs": [],
   "source": [
    "X_shuffle = X.join(Y.reset_index(drop=True))\n",
    "X_shuffle = X_shuffle.sample(frac=1).reset_index(drop=True)"
   ]
  },
  {
   "cell_type": "code",
   "execution_count": null,
   "metadata": {},
   "outputs": [],
   "source": [
    "Y_sh = X_shuffle[\"isFraud\"]\n",
    "X_sh = X_shuffle.loc[:, X_shuffle.columns != \"isFraud\"]"
   ]
  },
  {
   "cell_type": "code",
   "execution_count": null,
   "metadata": {},
   "outputs": [],
   "source": [
    "tstart = time.time()\n",
    "clf = LogisticRegression(solver ='liblinear', penalty = 'l1', C=0.04, random_state=0)\n",
    "scores_sh = cross_val_score(clf, X_sh, Y_sh, cv=5,scoring='roc_auc')\n",
    "print(\"score auc :\",scores_sh)\n",
    "tend = time.time()\n",
    "temps(tend-tstart)"
   ]
  },
  {
   "cell_type": "markdown",
   "metadata": {},
   "source": [
    "# Selection de variables avec Lasso"
   ]
  },
  {
   "cell_type": "markdown",
   "metadata": {},
   "source": [
    "### Variables sélectionner par Lasso pour  $\\lambda$=1"
   ]
  },
  {
   "cell_type": "code",
   "execution_count": null,
   "metadata": {},
   "outputs": [],
   "source": [
    "clf = linear_model.Lasso(alpha=1)\n",
    "clf.fit(X,Y)\n"
   ]
  },
  {
   "cell_type": "code",
   "execution_count": null,
   "metadata": {},
   "outputs": [],
   "source": [
    "coef = clf.coef_\n",
    "col_ohe = X.columns\n",
    "var_ohe = col_ohe[coef!=0]\n",
    "X_lasso = X[var_ohe]"
   ]
  },
  {
   "cell_type": "code",
   "execution_count": null,
   "metadata": {},
   "outputs": [],
   "source": [
    "print(len(var_ohe))"
   ]
  },
  {
   "cell_type": "markdown",
   "metadata": {},
   "source": [
    "Nous pouvons constater que la plupart des coefficients ont été mis à zéros"
   ]
  },
  {
   "cell_type": "code",
   "execution_count": null,
   "metadata": {},
   "outputs": [],
   "source": [
    "tstart = time.time()\n",
    "clf = LogisticRegression(solver ='liblinear', penalty = 'l1', random_state=0)\n",
    "scores_sub_lasso = cross_val_score(clf, X_lasso, Y, cv=5,scoring='roc_auc')\n",
    "print(\"score auc :\",scores_sub_lasso)\n",
    "tend = time.time()\n",
    "temps(tend-tstart)"
   ]
  },
  {
   "cell_type": "code",
   "execution_count": null,
   "metadata": {},
   "outputs": [],
   "source": [
    "tstart = time.time()\n",
    "clf = LogisticRegression(solver ='liblinear', penalty = 'l1', random_state=0)\n",
    "scores_sub_lasso = cross_val_score(clf, X_lasso, Y, cv=10,scoring='roc_auc')\n",
    "print(\"score auc :\",scores_sub_lasso)\n",
    "tend = time.time()\n",
    "temps(tend-tstart)"
   ]
  },
  {
   "cell_type": "markdown",
   "metadata": {},
   "source": [
    "###  Variables sélectionner par Lasso pour $\\lambda$ =0.1 "
   ]
  },
  {
   "cell_type": "code",
   "execution_count": null,
   "metadata": {},
   "outputs": [],
   "source": [
    "clf = linear_model.Lasso(alpha=0.1)\n",
    "clf.fit(X,Y)"
   ]
  },
  {
   "cell_type": "code",
   "execution_count": null,
   "metadata": {},
   "outputs": [],
   "source": [
    "coef = clf.coef_\n",
    "col_ohe = X.columns"
   ]
  },
  {
   "cell_type": "code",
   "execution_count": null,
   "metadata": {},
   "outputs": [],
   "source": [
    "var_ohe = col_ohe[coef!=0]\n",
    "print(len(var_ohe))"
   ]
  },
  {
   "cell_type": "markdown",
   "metadata": {},
   "source": [
    "Nous pouvons voir qu'en ce lambda le nombre de coefficient différents de zéros à augmenter"
   ]
  },
  {
   "cell_type": "code",
   "execution_count": null,
   "metadata": {},
   "outputs": [],
   "source": [
    "X_lasso = X[var_ohe]"
   ]
  },
  {
   "cell_type": "code",
   "execution_count": null,
   "metadata": {},
   "outputs": [],
   "source": [
    "tstart = time.time()\n",
    "clf = LogisticRegression(solver ='liblinear', C=0.04, penalty = 'l1', random_state=0)\n",
    "scores_sub_lasso = cross_val_score(clf, X_lasso, Y, cv=5,scoring='roc_auc')\n",
    "print(\"score auc :\",scores_sub_lasso)\n",
    "tend = time.time()\n",
    "temps(tend-tstart)"
   ]
  },
  {
   "cell_type": "code",
   "execution_count": null,
   "metadata": {},
   "outputs": [],
   "source": [
    "tstart = time.time()\n",
    "clf = LogisticRegression(solver ='liblinear', C=0.04, penalty = 'l1', random_state=0)\n",
    "scores_sub_lasso = cross_val_score(clf, X_lasso, Y, cv=10,scoring='roc_auc')\n",
    "print(\"score auc :\",scores_sub_lasso)\n",
    "tend = time.time()\n",
    "temps(tend-tstart)"
   ]
  },
  {
   "cell_type": "markdown",
   "metadata": {},
   "source": [
    "### Variables sélectionner par Lasso pour  𝜆 =0.01"
   ]
  },
  {
   "cell_type": "code",
   "execution_count": null,
   "metadata": {},
   "outputs": [],
   "source": [
    "clf = linear_model.Lasso(alpha=0.01)\n",
    "clf.fit(X,Y)"
   ]
  },
  {
   "cell_type": "code",
   "execution_count": null,
   "metadata": {},
   "outputs": [],
   "source": [
    "coef = clf.coef_\n",
    "col_ohe = X.columns\n",
    "var_ohe = col_ohe[coef!=0]\n",
    "X_lasso = X[var_ohe]"
   ]
  },
  {
   "cell_type": "code",
   "execution_count": null,
   "metadata": {},
   "outputs": [],
   "source": [
    "print(len(var_ohe))"
   ]
  },
  {
   "cell_type": "markdown",
   "metadata": {},
   "source": [
    "Nous pouvons constater que le nombre de coefficients différents de zéros a encore augmenté"
   ]
  },
  {
   "cell_type": "code",
   "execution_count": null,
   "metadata": {},
   "outputs": [],
   "source": [
    "tstart = time.time()\n",
    "clf = LogisticRegression(solver ='liblinear', penalty = 'l1', C=0.04, random_state=0)\n",
    "scores_sub_lasso = cross_val_score(clf, X_lasso, Y, cv=5,scoring='roc_auc')\n",
    "print(\"score auc :\",scores_sub_lasso)\n",
    "tend = time.time()\n",
    "temps(tend-tstart)"
   ]
  },
  {
   "cell_type": "code",
   "execution_count": null,
   "metadata": {},
   "outputs": [],
   "source": [
    "tstart = time.time()\n",
    "clf = LogisticRegression(solver ='liblinear', penalty = 'l1', C=0.04, random_state=0)\n",
    "scores_sub_lasso = cross_val_score(clf, X_lasso, Y, cv=10,scoring='roc_auc')\n",
    "print(\"score auc :\",scores_sub_lasso)\n",
    "tend = time.time()\n",
    "temps(tend-tstart)"
   ]
  },
  {
   "cell_type": "markdown",
   "metadata": {},
   "source": [
    "## Random Forest"
   ]
  },
  {
   "cell_type": "markdown",
   "metadata": {},
   "source": [
    "Random Forest est un modèle composé de nombreux arbres de décision. Plutôt que de simplement faire la moyenne de la prédiction des arbres (que nous pourrions appeler une «forêt»), ce modèle utilise deux concepts clés qui lui donnent le nom aléatoire:\n",
    "\n",
    "- Échantillonnage aléatoire des points de données d'entraînement lors de la construction d'arbres\n",
    "\n",
    "- Sous-ensembles aléatoires de variables pris en compte lors de la division des nœuds"
   ]
  },
  {
   "cell_type": "markdown",
   "metadata": {},
   "source": [
    "**Avantages:**\n",
    "\n",
    "- L'algorithme _Random Forest_ est considéré comme une méthode très précise et robuste en raison du nombre d'arbres de décision participant au processus.\n",
    "\n",
    "- Rapide dans les calculs\n",
    "\n",
    "- Classe les variables explicatives en fonction de leur lien avec les variables à expliquer \n",
    "\n",
    "- Il ne souffre pas du problème de sur-ajustement. La raison principale est qu'il prend la moyenne de toutes les prédictions, ce qui annule les biais.\n",
    "\n",
    "- On peut obtenir l'importance relative des variables, ce qui aide à sélectionner les variables les plus contributives pour le classificateur.\n",
    "\n",
    "**Paramètres:**\n",
    "\n",
    "- _n_estimators:_ Nombre d'arbres dans la forêt. La valeur par défaut est 10.\n",
    "\n",
    "- _min_samples_split:_ nombre minimum de  nœud requis pour la division. La valeur par défaut est 2.\n",
    "\n",
    "- _max_features:_  nombre de variables à considérer lors de la recherche de la meilleure répartition. si 'sqrt' alors max_features = sqrt (n_features)\n",
    "\n",
    "- _n_jobs_= -1 signifie utiliser tous les processeurs\n"
   ]
  },
  {
   "cell_type": "code",
   "execution_count": 84,
   "metadata": {},
   "outputs": [
    {
     "name": "stdout",
     "output_type": "stream",
     "text": [
      "temps : 00:00:17\n"
     ]
    }
   ],
   "source": [
    "#Création du modèle\n",
    "tstart = time.time()\n",
    "rf = RandomForestClassifier(n_jobs=-1, n_estimators = 40,max_features = 'sqrt')\n",
    "rf_fit=rf.fit(X_train, y_train)\n",
    "tend = time.time()\n",
    "temps(tend-tstart)"
   ]
  },
  {
   "cell_type": "markdown",
   "metadata": {},
   "source": [
    "Après quelques secondes d'entrainement, le modèle est prêt à faire des prédictions sur les données de test comme suit:"
   ]
  },
  {
   "cell_type": "code",
   "execution_count": 85,
   "metadata": {},
   "outputs": [
    {
     "name": "stdout",
     "output_type": "stream",
     "text": [
      "temps : 00:00:01\n"
     ]
    }
   ],
   "source": [
    "tstart = time.time()\n",
    "rf_predict = rf.predict(X_test)\n",
    "tend = time.time()\n",
    "temps(tend-tstart)"
   ]
  },
  {
   "cell_type": "markdown",
   "metadata": {},
   "source": [
    "On peut voir combien de noeuds il y a en moyenne pour chaque arbre et la profondeur maximale de chaque arbre. "
   ]
  },
  {
   "cell_type": "code",
   "execution_count": 86,
   "metadata": {},
   "outputs": [
    {
     "name": "stdout",
     "output_type": "stream",
     "text": [
      "Average number of nodes 33829\n",
      "Average maximum depth 49\n"
     ]
    }
   ],
   "source": [
    "n_nodes = []\n",
    "max_depths = []\n",
    "\n",
    "for ind_tree in rf.estimators_:\n",
    "    n_nodes.append(ind_tree.tree_.node_count)\n",
    "    max_depths.append(ind_tree.tree_.max_depth)\n",
    "    \n",
    "print(f'Average number of nodes {int(np.mean(n_nodes))}')\n",
    "print(f'Average maximum depth {int(np.mean(max_depths))}')\n",
    "\n"
   ]
  },
  {
   "cell_type": "markdown",
   "metadata": {},
   "source": [
    "On peut voir que chaque arbre de décision dans la forêt a de nombreux noeuds et est extrêmement profond. Cependant, même si chaque arbre de décision individuel peut s'adapter à un sous-ensemble particulier des données d'entrainement, l'idée est que la forêt aléatoire globale devrait avoir une variance réduite."
   ]
  },
  {
   "cell_type": "markdown",
   "metadata": {},
   "source": [
    "**Evaluation des performances:**\n"
   ]
  },
  {
   "cell_type": "code",
   "execution_count": 89,
   "metadata": {},
   "outputs": [
    {
     "name": "stdout",
     "output_type": "stream",
     "text": [
      "Area under the ROC curve : 0.930455\n"
     ]
    },
    {
     "data": {
      "image/png": "[encoded data removed]",
      "text/plain": [
       "<Figure size 432x288 with 1 Axes>"
      ]
     },
     "metadata": {},
     "output_type": "display_data"
    }
   ],
   "source": [
    "from sklearn.metrics import roc_curve, auc\n",
    "\n",
    "probas = rf.predict_proba(X_test)\n",
    "# probas est une matrice de deux colonnes avec la proabilités d'appartenance à chaque classe\n",
    "\n",
    "fpr, tpr, thresholds = roc_curve(y_test, probas[:, 1])\n",
    "roc_auc = auc(fpr, tpr)\n",
    "print(\"Area under the ROC curve : %f\" % roc_auc)\n",
    "\n",
    "plt.plot(fpr, tpr, label='ROC curve (area = %0.2f)' % roc_auc)\n",
    "plt.plot([0, 1], [0, 1], 'k--')\n",
    "plt.xlim([0.0, 1.0])\n",
    "plt.ylim([0.0, 1.0])\n",
    "plt.xlabel('False Positive Rate')\n",
    "plt.ylabel('True Positive Rate')\n",
    "plt.title('Receiver operating characteristic ')\n",
    "plt.legend(loc=\"lower right\");"
   ]
  },
  {
   "cell_type": "markdown",
   "metadata": {},
   "source": [
    "- Matrice de confusion"
   ]
  },
  {
   "cell_type": "code",
   "execution_count": 90,
   "metadata": {},
   "outputs": [],
   "source": [
    "from sklearn.metrics import confusion_matrix\n",
    "import itertools\n",
    "\n",
    "def plot_confusion_matrix(cm, classes,\n",
    "                          normalize=False,\n",
    "                          title='Confusion matrix',\n",
    "                          cmap=plt.cm.Oranges):\n",
    "    \"\"\"\n",
    "    This function prints and plots the confusion matrix.\n",
    "    Normalization can be applied by setting `normalize=True`.\n",
    "    Source: http://scikit-learn.org/stable/auto_examples/model_selection/plot_confusion_matrix.html\n",
    "    \"\"\"\n",
    "    if normalize:\n",
    "        cm = cm.astype('float') / cm.sum(axis=1)[:, np.newaxis]\n",
    "        print(\"Normalized confusion matrix\")\n",
    "    else:\n",
    "        print('Confusion matrix, without normalization')\n",
    "\n",
    "    print(cm)\n",
    "\n",
    "    plt.figure(figsize = (10, 10))\n",
    "    plt.imshow(cm, interpolation='nearest', cmap=cmap)\n",
    "    plt.title(title, size = 24)\n",
    "    plt.colorbar(aspect=4)\n",
    "    tick_marks = np.arange(len(classes))\n",
    "    plt.xticks(tick_marks, classes, rotation=45, size = 14)\n",
    "    plt.yticks(tick_marks, classes, size = 14)\n",
    "\n",
    "    fmt = '.2f' if normalize else 'd'\n",
    "    thresh = cm.max() / 2.\n",
    "    \n",
    "    # Labeling the plot\n",
    "    for i, j in itertools.product(range(cm.shape[0]), range(cm.shape[1])):\n",
    "        plt.text(j, i, format(cm[i, j], fmt), fontsize = 20,\n",
    "                 horizontalalignment=\"center\",\n",
    "                 color=\"white\" if cm[i, j] > thresh else \"black\")\n",
    "        \n",
    "    plt.grid(None)\n",
    "    plt.tight_layout()\n",
    "    plt.ylabel('True label', size = 18)\n",
    "    plt.xlabel('Predicted label', size = 18)"
   ]
  },
  {
   "cell_type": "code",
   "execution_count": 91,
   "metadata": {},
   "outputs": [
    {
     "name": "stdout",
     "output_type": "stream",
     "text": [
      "Confusion matrix, without normalization\n",
      "[[187717    216]\n",
      " [  3238   3708]]\n"
     ]
    },
    {
     "data": {
      "image/png": "[encoded data removed]",
      "text/plain": [
       "<Figure size 720x720 with 2 Axes>"
      ]
     },
     "metadata": {},
     "output_type": "display_data"
    }
   ],
   "source": [
    "cm = confusion_matrix(y_test, rf_predict)\n",
    "plot_confusion_matrix(cm, classes = ['0', '1'],\n",
    "                      title = 'transaction Confusion Matrix')\n"
   ]
  },
  {
   "cell_type": "markdown",
   "metadata": {},
   "source": [
    "Cela montre les classifications prévues par le modèle sur les données de test ainsi que les labels réels. Nous pouvons voir que notre modèle a de nombreux faux positifs (une transaction non frauduleuse prédite mais en fait une transaction frauduleuse)"
   ]
  },
  {
   "cell_type": "markdown",
   "metadata": {},
   "source": [
    "**Optimisation Random Forest:**\n",
    "\n",
    "- **Option 1:**\n",
    "\n",
    "En s'aidant de l'article de William Koehrsen, «Hyperparameter Tuning the Random Forest in Python» \n",
    "\n",
    "On a utilisé RandomizedSearchCV de sklearn pour optimiser nos hyperparamateurs. Koehrsen utilise une grille complète d'hyperparamètres dans son article, mais on a trouvé que cela pouvait prendre beaucoup de temps pour s'exécuter dans la pratique. on a décidé de me concentrer sur 3 hyperparamètres: n_estimators, max_features et max_depth."
   ]
  },
  {
   "cell_type": "code",
   "execution_count": null,
   "metadata": {},
   "outputs": [],
   "source": [
    "from sklearn.model_selection import RandomizedSearchCV\n",
    "# number of trees in random forest\n",
    "n_estimators = [int(x) for x in np.linspace(start = 200, stop = 700, num = 10)]\n",
    "max_features = [‘auto’, ‘sqrt’]\n",
    "\n",
    "# max depth\n",
    "max_depth = [int(x) for x in np.linspace(100, 500, num = 11)]\n",
    "max_depth.append(None)# create random grid\n",
    "random_grid = {\n",
    " ‘n_estimators’: n_estimators,\n",
    " ‘max_features’: max_features,\n",
    " ‘max_depth’: max_depth\n",
    " }# Random search of parameters\n",
    "rfc_random = RandomizedSearchCV(estimator = rfc, param_distributions = random_grid, n_iter = 100, cv = 3, verbose=2, random_state=42, n_jobs = 1)\n",
    "print(rfc_random.best_params_)"
   ]
  },
  {
   "cell_type": "markdown",
   "metadata": {},
   "source": [
    "- **Option 2:**\n",
    "\n",
    "Afin de maximiser les performances de notre modèle, on peut effectuer une recherche aléatoire de meilleurs hyperparamètres. Cela sélectionnera de manière aléatoire des combinaisons d'hyperparamètres à partir d'une grille, les évaluera à l'aide d'une validation croisée sur les données d'entraînement et renverra les valeurs les plus performantes."
   ]
  },
  {
   "cell_type": "code",
   "execution_count": null,
   "metadata": {},
   "outputs": [],
   "source": [
    "from sklearn.model_selection import RandomizedSearchCV\n",
    "# number of trees in random forest\n",
    "n_estimators = [int(x) for x in np.linspace(start = 200, stop = 700, num = 10)]\n",
    "max_features = [‘auto’, ‘sqrt’]\n",
    "\n",
    "# max depth\n",
    "max_depth = [int(x) for x in np.linspace(100, 500, num = 11)]\n",
    "max_depth.append(None)# create random grid\n",
    "random_grid = {\n",
    " ‘n_estimators’: n_estimators,\n",
    " ‘max_features’: max_features,\n",
    " ‘max_depth’: max_depth\n",
    " }# Random search of parameters\n",
    "rfc_random = RandomizedSearchCV(estimator = rfc, param_distributions = random_grid, n_iter = 100, cv = 3, verbose=2, random_state=42, n_jobs = 1)\n",
    "print(rfc_random.best_params_)"
   ]
  },
  {
   "cell_type": "markdown",
   "metadata": {},
   "source": [
    "On a fait tourner cette partie du code sur un ordinateur plus puissant, l'agorithme a fait 300 calculs et 3 fit et pour chaque fit 100 estimation. temps de calcul 9h \n",
    "\n",
    "Résultat: n_estimators = 485, max_features='sqrt',max_depth=164"
   ]
  },
  {
   "cell_type": "markdown",
   "metadata": {},
   "source": [
    "**Variables importantes:**\n",
    "\n",
    "On jete un oeil aux variables considérées comme les plus importantes par notre modèle. Les valeurs sont calculées se basant sur le coefficient de Gini de l'impureté d'un noeud."
   ]
  },
  {
   "cell_type": "code",
   "execution_count": 92,
   "metadata": {},
   "outputs": [
    {
     "name": "stdout",
     "output_type": "stream",
     "text": [
      "feature: ProductCD_C, importance: 0.004154933697053081\n",
      "feature: ProductCD_H, importance: 0.0026548589477266983\n",
      "feature: ProductCD_R, importance: 0.0017924443845828667\n",
      "feature: ProductCD_S, importance: 0.0015268560632431994\n",
      "feature: ProductCD_W, importance: 0.0006456769144813297\n",
      "feature: card4_american express, importance: 0.0011212459464125838\n",
      "feature: card4_discover, importance: 0.003510484230494532\n",
      "feature: card4_mastercard, importance: 0.01004019689366148\n",
      "feature: card4_visa, importance: 0.01058574860279832\n",
      "feature: R_emaildomain_aim.com, importance: 4.219884864920845e-05\n",
      "feature: R_emaildomain_anonymous.com, importance: 0.004740872779379804\n",
      "feature: R_emaildomain_aol.com, importance: 0.0008225190009040987\n",
      "feature: R_emaildomain_att.net, importance: 5.2228840617408393e-05\n",
      "feature: R_emaildomain_bellsouth.net, importance: 4.172146276808486e-05\n",
      "feature: R_emaildomain_cableone.net, importance: 1.086113118724693e-06\n",
      "feature: R_emaildomain_centurylink.net, importance: 4.886501849679743e-09\n",
      "feature: R_emaildomain_cfl.rr.com, importance: 2.110536049477231e-06\n",
      "feature: R_emaildomain_charter.net, importance: 0.00015046888752036418\n",
      "feature: R_emaildomain_comcast.net, importance: 0.000224683285472784\n",
      "feature: R_emaildomain_cox.net, importance: 0.00016574698062813196\n",
      "feature: R_emaildomain_earthlink.net, importance: 0.00013480357681878484\n",
      "feature: R_emaildomain_embarqmail.com, importance: 1.2658338496616108e-05\n",
      "feature: R_emaildomain_frontier.com, importance: 8.00024540592183e-07\n",
      "feature: R_emaildomain_frontiernet.net, importance: 8.200286312888531e-07\n",
      "feature: R_emaildomain_gmail, importance: 8.089417998861124e-06\n",
      "feature: R_emaildomain_gmail.com, importance: 0.009533642304399273\n",
      "feature: R_emaildomain_gmx.de, importance: 1.2285167766191698e-05\n",
      "feature: R_emaildomain_hotmail.co.uk, importance: 2.151881379353637e-05\n",
      "feature: R_emaildomain_hotmail.com, importance: 0.004633609180736583\n",
      "feature: R_emaildomain_hotmail.de, importance: 4.558281314948647e-06\n",
      "feature: R_emaildomain_hotmail.es, importance: 0.000372213114910866\n",
      "feature: R_emaildomain_hotmail.fr, importance: 6.183433972513079e-05\n",
      "feature: R_emaildomain_icloud.com, importance: 0.0011903948640129877\n",
      "feature: R_emaildomain_juno.com, importance: 1.1437974719639957e-06\n",
      "feature: R_emaildomain_live.com, importance: 0.0004188138937233761\n",
      "feature: R_emaildomain_live.com.mx, importance: 0.00039093637539841227\n",
      "feature: R_emaildomain_live.fr, importance: 3.7750175902603194e-06\n",
      "feature: R_emaildomain_mac.com, importance: 3.425572733605776e-05\n",
      "feature: R_emaildomain_mail.com, importance: 0.0006168439212418556\n",
      "feature: R_emaildomain_me.com, importance: 0.0001488217639858474\n",
      "feature: R_emaildomain_msn.com, importance: 7.165257434896091e-05\n",
      "feature: R_emaildomain_netzero.com, importance: 7.664258869610214e-07\n",
      "feature: R_emaildomain_netzero.net, importance: 4.480292502565141e-05\n",
      "feature: R_emaildomain_optonline.net, importance: 6.0487760007699046e-05\n",
      "feature: R_emaildomain_outlook.com, importance: 0.0019500171531312998\n",
      "feature: R_emaildomain_outlook.es, importance: 0.0005254153790837643\n",
      "feature: R_emaildomain_prodigy.net.mx, importance: 6.223616792156584e-05\n",
      "feature: R_emaildomain_protonmail.com, importance: 0.0008200161202525774\n",
      "feature: R_emaildomain_ptd.net, importance: 1.8469356720538105e-08\n",
      "feature: R_emaildomain_q.com, importance: 6.7506787648895584e-09\n",
      "feature: R_emaildomain_roadrunner.com, importance: 8.551669911646447e-06\n",
      "feature: R_emaildomain_rocketmail.com, importance: 0.00010625994527557805\n",
      "feature: R_emaildomain_sbcglobal.net, importance: 5.04082889639494e-05\n",
      "feature: R_emaildomain_sc.rr.com, importance: 7.6602776588763e-08\n",
      "feature: R_emaildomain_scranton.edu, importance: 9.869375430675817e-06\n",
      "feature: R_emaildomain_servicios-ta.com, importance: 9.064834487324959e-07\n",
      "feature: R_emaildomain_suddenlink.net, importance: 2.854731837827706e-06\n",
      "feature: R_emaildomain_twc.com, importance: 1.7932571886827644e-06\n",
      "feature: R_emaildomain_verizon.net, importance: 2.5188194192018884e-05\n",
      "feature: R_emaildomain_web.de, importance: 5.3664444854364005e-05\n",
      "feature: R_emaildomain_windstream.net, importance: 2.11809240083976e-07\n",
      "feature: R_emaildomain_yahoo.co.jp, importance: 2.2414856805694325e-06\n",
      "feature: R_emaildomain_yahoo.co.uk, importance: 2.0197471122070535e-06\n",
      "feature: R_emaildomain_yahoo.com, importance: 0.002592015822303495\n",
      "feature: R_emaildomain_yahoo.com.mx, importance: 0.00042537972045583966\n",
      "feature: R_emaildomain_yahoo.de, importance: 4.073107958084609e-06\n",
      "feature: R_emaildomain_yahoo.es, importance: 5.68809087483367e-05\n",
      "feature: R_emaildomain_yahoo.fr, importance: 0.00010669841140434511\n",
      "feature: R_emaildomain_ymail.com, importance: 6.968615431183983e-05\n",
      "feature: M1_F, importance: 2.28126720647811e-07\n",
      "feature: M1_T, importance: 0.001651630240121945\n",
      "feature: M2_F, importance: 0.0017341278210136278\n",
      "feature: M2_T, importance: 0.002014019246797367\n",
      "feature: M3_F, importance: 0.0022743958323371456\n",
      "feature: M3_T, importance: 0.0023091019924913743\n",
      "feature: M4_M0, importance: 0.005818012841552906\n",
      "feature: M4_M1, importance: 0.0033234189224349404\n",
      "feature: M4_M2, importance: 0.003619671306522146\n",
      "feature: M5_F, importance: 0.002651424250762106\n",
      "feature: M5_T, importance: 0.0035314684967971883\n",
      "feature: M6_F, importance: 0.0053741369079803305\n",
      "feature: M6_T, importance: 0.005331572073233811\n",
      "feature: M7_F, importance: 0.0028429737009456287\n",
      "feature: M7_T, importance: 0.0018180380094541693\n",
      "feature: M8_F, importance: 0.0029376225552204933\n",
      "feature: M8_T, importance: 0.0026151308976314343\n",
      "feature: M9_F, importance: 0.0019479700473257473\n",
      "feature: M9_T, importance: 0.00284579699328469\n",
      "feature: id_12_Found, importance: 0.002199429107878357\n",
      "feature: id_12_NotFound, importance: 0.003683428184944769\n",
      "feature: id_15_Found, importance: 0.0033311700245946055\n",
      "feature: id_15_New, importance: 0.0015599162068068704\n",
      "feature: id_15_Unknown, importance: 0.0007990101219064559\n",
      "feature: id_16_Found, importance: 0.0027045731918572923\n",
      "feature: id_16_NotFound, importance: 0.0017150371467159465\n",
      "feature: id_28_Found, importance: 0.0018644958897417608\n",
      "feature: id_28_New, importance: 0.0009426974717635496\n",
      "feature: id_29_Found, importance: 0.0027064458879130044\n",
      "feature: id_29_NotFound, importance: 0.001167952839463191\n",
      "feature: id_35_F, importance: 0.0027978362829215305\n",
      "feature: id_35_T, importance: 0.0016378327512809147\n",
      "feature: id_36_F, importance: 0.0021654298256474085\n",
      "feature: id_36_T, importance: 0.001046700013790426\n",
      "feature: id_37_F, importance: 0.002094067936682648\n",
      "feature: id_37_T, importance: 0.0025728757084904725\n",
      "feature: id_38_F, importance: 0.005803904434329784\n",
      "feature: id_38_T, importance: 0.0030206342851466015\n",
      "feature: DeviceType_desktop, importance: 0.004036240755075013\n",
      "feature: DeviceType_mobile, importance: 0.005515233608971692\n",
      "feature: TransactionDT, importance: 0.13560243359369117\n",
      "feature: TransactionAmt, importance: 0.11167396392367088\n",
      "feature: card1, importance: 0.12148282423500459\n",
      "feature: C1, importance: 0.08211187058241279\n",
      "feature: C2, importance: 0.04611954137598937\n",
      "feature: C3, importance: 0.00031690879094462026\n",
      "feature: C4, importance: 0.015945048070231196\n",
      "feature: C5, importance: 0.007758043383292369\n",
      "feature: C6, importance: 0.038752912250154835\n",
      "feature: C7, importance: 0.020592602767926693\n",
      "feature: C8, importance: 0.019663132653597603\n",
      "feature: C9, importance: 0.021563636315099943\n",
      "feature: C10, importance: 0.02292700201566332\n",
      "feature: C11, importance: 0.03661055551016999\n",
      "feature: C12, importance: 0.029067806209676323\n",
      "feature: C13, importance: 0.0735557909111233\n",
      "feature: C14, importance: 0.04131817033405471\n"
     ]
    }
   ],
   "source": [
    "fi = []\n",
    "fiName = []\n",
    "for feat, importance in zip(X.columns, rf.feature_importances_):\n",
    "  if importance!= 0:\n",
    "      fi.append(importance)\n",
    "      fiName.append(feat)\n",
    "      print('feature: {f}, importance: {i}'.format(f=feat, i=importance))"
   ]
  },
  {
   "cell_type": "code",
   "execution_count": 93,
   "metadata": {},
   "outputs": [
    {
     "data": {
      "text/plain": [
       "126"
      ]
     },
     "execution_count": 93,
     "metadata": {},
     "output_type": "execute_result"
    }
   ],
   "source": [
    "len(fi)"
   ]
  },
  {
   "cell_type": "markdown",
   "metadata": {},
   "source": [
    "On a au total 126 variables importantes.\n",
    "\n",
    "On trace 10 variables importantes retourner par notre modèle"
   ]
  },
  {
   "cell_type": "code",
   "execution_count": 94,
   "metadata": {},
   "outputs": [
    {
     "name": "stderr",
     "output_type": "stream",
     "text": [
      "No handles with labels found to put in legend.\n"
     ]
    },
    {
     "data": {
      "image/png": "[encoded data removed]",
      "text/plain": [
       "<Figure size 432x288 with 1 Axes>"
      ]
     },
     "metadata": {},
     "output_type": "display_data"
    }
   ],
   "source": [
    "sns.barplot(x=fi[0:10], y=fiName[0:10])\n",
    "plt.xlabel('Feature Importance Score')\n",
    "plt.ylabel('Features')\n",
    "plt.title(\"Visualizing Important Features\")\n",
    "plt.legend()\n",
    "plt.show()"
   ]
  },
  {
   "cell_type": "markdown",
   "metadata": {},
   "source": [
    "**Utilisation du meilleur modèle (variables importantes)**\n",
    "\n",
    "Maintenant, on va prendre le meilleur modèle (qui a été formé) et l'évaluer. Espérons que celui là retourne un meilleur résultat"
   ]
  },
  {
   "cell_type": "code",
   "execution_count": 95,
   "metadata": {},
   "outputs": [],
   "source": [
    "X_trainEncodedBest = X_train[fiName]\n",
    "X_testEncodedBest = X_test[fiName]"
   ]
  },
  {
   "cell_type": "markdown",
   "metadata": {},
   "source": [
    "- **Option 1:**"
   ]
  },
  {
   "cell_type": "code",
   "execution_count": 96,
   "metadata": {},
   "outputs": [],
   "source": [
    "rf_best=RandomForestClassifier( n_estimators = 485, max_features='sqrt',max_depth=164)"
   ]
  },
  {
   "cell_type": "code",
   "execution_count": 98,
   "metadata": {},
   "outputs": [
    {
     "name": "stdout",
     "output_type": "stream",
     "text": [
      "temps : 00:08:01\n"
     ]
    }
   ],
   "source": [
    "tstart=time.time()\n",
    "rf_best.fit(X_trainEncodedBest,y_train)\n",
    "tend = time.time()\n",
    "temps(tend-tstart)"
   ]
  },
  {
   "cell_type": "code",
   "execution_count": 99,
   "metadata": {},
   "outputs": [],
   "source": [
    "rf_predict_best = rf_best.predict(X_testEncodedBest)"
   ]
  },
  {
   "cell_type": "code",
   "execution_count": 100,
   "metadata": {},
   "outputs": [
    {
     "name": "stdout",
     "output_type": "stream",
     "text": [
      "Confusion matrix, without normalization\n",
      "[[187714    219]\n",
      " [  3166   3780]]\n"
     ]
    },
    {
     "data": {
      "image/png": "[encoded data removed]",
      "text/plain": [
       "<Figure size 720x720 with 2 Axes>"
      ]
     },
     "metadata": {},
     "output_type": "display_data"
    }
   ],
   "source": [
    "cm = confusion_matrix(y_test, rf_predict_best)\n",
    "plot_confusion_matrix(cm, classes = ['0', '1'],\n",
    "                      title = 'transaction Confusion Matrix')"
   ]
  },
  {
   "cell_type": "code",
   "execution_count": 102,
   "metadata": {},
   "outputs": [
    {
     "name": "stdout",
     "output_type": "stream",
     "text": [
      "Area under the ROC curve : 0.944634\n"
     ]
    },
    {
     "data": {
      "image/png": "[encoded data removed]",
      "text/plain": [
       "<Figure size 432x288 with 1 Axes>"
      ]
     },
     "metadata": {},
     "output_type": "display_data"
    }
   ],
   "source": [
    "from sklearn.metrics import roc_curve, auc\n",
    "\n",
    "probas = rf_best.predict_proba(X_testEncodedBest)\n",
    "# probas est une matrice de deux colonnes avec la proabilités d'appartenance à chaque classe\n",
    "\n",
    "fpr, tpr, thresholds = roc_curve(y_test, probas[:, 1])\n",
    "roc_auc = auc(fpr, tpr)\n",
    "print(\"Area under the ROC curve : %f\" % roc_auc)\n",
    "\n",
    "plt.plot(fpr, tpr, label='ROC curve (area = %0.2f)' % roc_auc)\n",
    "plt.plot([0, 1], [0, 1], 'k--')\n",
    "plt.xlim([0.0, 1.0])\n",
    "plt.ylim([0.0, 1.0])\n",
    "plt.xlabel('False Positive Rate')\n",
    "plt.ylabel('True Positive Rate')\n",
    "plt.title('Receiver operating characteristic ')\n",
    "plt.legend(loc=\"lower right\");"
   ]
  },
  {
   "cell_type": "markdown",
   "metadata": {},
   "source": [
    "- **Option 2:**"
   ]
  },
  {
   "cell_type": "code",
   "execution_count": null,
   "metadata": {},
   "outputs": [],
   "source": [
    "rf_best2=RandomForestClassifier( n_estimators = 188,min_samples_split=2,max_leaf_nodes= 33,max_features=0.79\n",
    "                               ,max_depth=12,bootstrap= True)"
   ]
  },
  {
   "cell_type": "code",
   "execution_count": null,
   "metadata": {},
   "outputs": [],
   "source": [
    "tstart=time.time()\n",
    "rf_best2.fit(X_trainEncodedBest_rf,y_train)\n",
    "tend = time.time()\n",
    "temps(tend-tstart)"
   ]
  },
  {
   "cell_type": "code",
   "execution_count": null,
   "metadata": {},
   "outputs": [],
   "source": [
    "rf_predict_best2 = rf_best2.predict(X_testEncodedBest_rf)"
   ]
  },
  {
   "cell_type": "code",
   "execution_count": null,
   "metadata": {},
   "outputs": [],
   "source": [
    "print(\"Accuracy:\",metrics.accuracy_score(y_test,rf_predict_best2 ))"
   ]
  },
  {
   "cell_type": "markdown",
   "metadata": {},
   "source": [
    "On remarque une très légère amélioration, l'accuracy est passée de 98,23% à 98,26% celà est peut être dû aux hyperparamètres choisis par nous même. On a essayé de faire une recherche aléatoire des meilleurs hyperparamètres . Cette méthode n'a pas retourné un meilleur résultat. "
   ]
  },
  {
   "cell_type": "markdown",
   "metadata": {},
   "source": [
    "## Adaptive Boosting"
   ]
  },
  {
   "cell_type": "markdown",
   "metadata": {},
   "source": [
    "Adaboost combine plusieurs apprenants faibles en un seul apprenant fort. \n",
    "\n",
    "Les apprenants faibles dans AdaBoost sont des arbres de décision avec une seule division, appelés souches de décision. \n",
    "\n",
    "Lorsque AdaBoost crée son premier noeud de décision, toutes les observations sont pondérées de manière égale. Pour corriger l'erreur précédente, les observations incorrectement classées ont désormais plus de poids que les observations correctement classées. Les algorithmes AdaBoost peuvent être utilisés pour les problèmes de classification."
   ]
  },
  {
   "cell_type": "markdown",
   "metadata": {},
   "source": [
    "Optimisation des hyperparamètres"
   ]
  },
  {
   "cell_type": "code",
   "execution_count": null,
   "metadata": {},
   "outputs": [],
   "source": [
    "parameters = {'learning_rate': [0.01, 0.05, 0.1, 1]}\n",
    "gridCv = GridSearchCV(AdaBoostClassifier(), param_grid= parameters, cv=3, scoring='roc_auc')"
   ]
  },
  {
   "cell_type": "code",
   "execution_count": null,
   "metadata": {},
   "outputs": [],
   "source": [
    "begin = time.time()\n",
    "gridCv.fit(X,Y)\n",
    "end = time.time()"
   ]
  },
  {
   "cell_type": "code",
   "execution_count": null,
   "metadata": {},
   "outputs": [],
   "source": [
    "print(\"Time execution for optimizing hyperparapeter is {a} minutes.\".format(a =(end-begin)/60))"
   ]
  },
  {
   "cell_type": "markdown",
   "metadata": {},
   "source": [
    "Meilleur paramètre, meileur estimateur et AUC"
   ]
  },
  {
   "cell_type": "code",
   "execution_count": null,
   "metadata": {},
   "outputs": [],
   "source": [
    "gridCv.best_params_"
   ]
  },
  {
   "cell_type": "code",
   "execution_count": null,
   "metadata": {},
   "outputs": [],
   "source": [
    "gridCv.best_estimator_"
   ]
  },
  {
   "cell_type": "code",
   "execution_count": null,
   "metadata": {},
   "outputs": [],
   "source": [
    "gridCv.best_score_"
   ]
  },
  {
   "cell_type": "markdown",
   "metadata": {},
   "source": [
    "Model AdaBoost avec toutes les variables"
   ]
  },
  {
   "cell_type": "code",
   "execution_count": null,
   "metadata": {},
   "outputs": [],
   "source": [
    "Model = AdaBoostClassifier(algorithm='SAMME.R', base_estimator=None, learning_rate=0.01,\n",
    "                   n_estimators=50, random_state=None)"
   ]
  },
  {
   "cell_type": "code",
   "execution_count": null,
   "metadata": {},
   "outputs": [],
   "source": [
    "Model.fit(X,Y)"
   ]
  },
  {
   "cell_type": "markdown",
   "metadata": {},
   "source": [
    "Probabilités prédites par le modèle"
   ]
  },
  {
   "cell_type": "code",
   "execution_count": null,
   "metadata": {},
   "outputs": [],
   "source": [
    "predictedProba1 = pd.DataFrame(Model.predict_proba(X_test), columns=['0','1'])\n"
   ]
  },
  {
   "cell_type": "code",
   "execution_count": null,
   "metadata": {},
   "outputs": [],
   "source": [
    "fraudTransaction = predictedProba1['1']\n",
    "nonFraudTransaction = predictedProba1['0']"
   ]
  },
  {
   "cell_type": "markdown",
   "metadata": {},
   "source": [
    "Adaboost Model avec seulement les variables importantes :"
   ]
  },
  {
   "cell_type": "markdown",
   "metadata": {},
   "source": [
    "On utilise la méthode feature_importances_ pour trouver les variables importantes."
   ]
  },
  {
   "cell_type": "code",
   "execution_count": null,
   "metadata": {},
   "outputs": [],
   "source": [
    "importantFeature = []\n",
    "importantFeatureName = []\n",
    "for feat, importance in zip(X.columns, gridCv.best_estimator_.feature_importances_):\n",
    "  if importance!= 0:\n",
    "      importantFeature.append(importance)\n",
    "      importantFeatureName.append(feat)\n",
    "      print('feature: {f}, importance: {i}'.format(f=feat, i=importance))"
   ]
  },
  {
   "cell_type": "code",
   "execution_count": null,
   "metadata": {},
   "outputs": [],
   "source": [
    "X_trainEncodedBest = X_train[importantFeatureName]\n",
    "X_testEncodedBest = X_test[importantFeatureName]"
   ]
  },
  {
   "cell_type": "code",
   "execution_count": null,
   "metadata": {},
   "outputs": [],
   "source": [
    "begin = time.time()\n",
    "crossValScore = cross_val_score(Model, X_trainEncodedBest, y_train, cv= 3, scoring='roc_auc')\n",
    "end = time.time()"
   ]
  },
  {
   "cell_type": "code",
   "execution_count": null,
   "metadata": {},
   "outputs": [],
   "source": [
    "print(\"auc score is: {f}\".format(f=np.mean(crossValScore)))\n",
    "print(\"Time exécution is {a} minutes\".format(a = (end-begin)/60))"
   ]
  },
  {
   "cell_type": "markdown",
   "metadata": {},
   "source": [
    "Probabilités des transactions frauduleuse prédites par ce modèle"
   ]
  },
  {
   "cell_type": "code",
   "execution_count": null,
   "metadata": {},
   "outputs": [],
   "source": [
    "predictedProba2 = pd.DataFrame(bestModel.predict_proba(X_test), columns=['0','1'])"
   ]
  },
  {
   "cell_type": "code",
   "execution_count": null,
   "metadata": {},
   "outputs": [],
   "source": [
    "fraudTransaction = predictedProba['1']\n",
    "nonFraudTransaction = predictedProba['0']"
   ]
  },
  {
   "cell_type": "code",
   "execution_count": null,
   "metadata": {},
   "outputs": [],
   "source": [
    "fraudTransaction.index = transactionIDTest\n",
    "nonFraudTransaction.index = transactionIDTest"
   ]
  },
  {
   "cell_type": "code",
   "execution_count": null,
   "metadata": {},
   "outputs": [],
   "source": [
    "fraudTransaction.head()"
   ]
  },
  {
   "cell_type": "code",
   "execution_count": null,
   "metadata": {},
   "outputs": [],
   "source": [
    "nonFraudTransaction.head()"
   ]
  },
  {
   "cell_type": "code",
   "execution_count": null,
   "metadata": {},
   "outputs": [],
   "source": [
    "predictedProbaFraud1 = saveCSV(fraudTransaction, \"predictedProbaFraud1.csv\")\n",
    "predictedProbaNonFraud1 = saveCSV(nonFraudTransaction, \"predictedProbaNonFraud1.csv\")"
   ]
  },
  {
   "cell_type": "markdown",
   "metadata": {},
   "source": [
    "Le modèle prenant en compte toutes les variables est long mais donne une meilleure valeur de l'AUC (0.88).\n",
    "\n",
    "En ne prenant que les variables importantes on trouve un score de l'AUC de 0.8, et le temps d'exécution est moins long."
   ]
  }
 ],
 "metadata": {
  "kernelspec": {
   "display_name": "Python 3",
   "language": "python",
   "name": "python3"
  },
  "language_info": {
   "codemirror_mode": {
    "name": "ipython",
    "version": 3
   },
   "file_extension": ".py",
   "mimetype": "text/x-python",
   "name": "python",
   "nbconvert_exporter": "python",
   "pygments_lexer": "ipython3",
   "version": "3.7.3"
  }
 },
 "nbformat": 4,
 "nbformat_minor": 2
}
